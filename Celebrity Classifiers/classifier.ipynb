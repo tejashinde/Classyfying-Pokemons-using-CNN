{
 "cells": [
  {
   "cell_type": "code",
   "execution_count": 5,
   "metadata": {},
   "outputs": [],
   "source": [
    "import matplotlib\n",
    "matplotlib.use(\"Agg\")\n",
    " \n",
    "# import the necessary packages\n",
    "from sklearn.preprocessing import LabelBinarizer\n",
    "from sklearn.model_selection import train_test_split\n",
    "from sklearn.metrics import classification_report\n",
    "from keras.models import Sequential\n",
    "from keras.layers.core import Dense\n",
    "from keras.optimizers import SGD\n",
    "from imutils import paths\n",
    "import matplotlib.pyplot as plt\n",
    "import numpy as np\n",
    "import cv2\n",
    "import argparse\n",
    "import random\n",
    "import os"
   ]
  },
  {
   "cell_type": "code",
   "execution_count": 6,
   "metadata": {},
   "outputs": [],
   "source": [
    "# initialize the data and labels\n",
    "data = []\n",
    "labels = []"
   ]
  },
  {
   "cell_type": "code",
   "execution_count": 7,
   "metadata": {},
   "outputs": [],
   "source": [
    "# grab the image paths and randomly shuffle them\n",
    "imagePaths = sorted(list(paths.list_images('images/')))\n",
    "random.seed(42)\n",
    "random.shuffle(imagePaths)"
   ]
  },
  {
   "cell_type": "markdown",
   "metadata": {},
   "source": [
    "## Resize, Flatten and append to data,label lists\n",
    "### Flattening: 32x32x3 = 3072"
   ]
  },
  {
   "cell_type": "code",
   "execution_count": 8,
   "metadata": {},
   "outputs": [],
   "source": [
    "for imagePath in imagePaths:\n",
    "\timage = cv2.imread(imagePath)\n",
    "    # flatten the image into 32x32x3=3072\n",
    "\timage = cv2.resize(image, (32, 32)).flatten()\n",
    "\tdata.append(image)\n",
    " \n",
    "\t# extract the class label from the image path and update the labels list\n",
    "\tlabel = imagePath.split(os.path.sep)[-2]\n",
    "\tlabels.append(label)"
   ]
  },
  {
   "cell_type": "code",
   "execution_count": 9,
   "metadata": {},
   "outputs": [
    {
     "data": {
      "text/plain": [
       "array([255, 255, 255, ...,  49,  83, 137], dtype=uint8)"
      ]
     },
     "execution_count": 9,
     "metadata": {},
     "output_type": "execute_result"
    }
   ],
   "source": [
    "data[:1][0]"
   ]
  },
  {
   "cell_type": "markdown",
   "metadata": {},
   "source": [
    "## Scale the raw pixel intensities to the range [0, 1] from [0, 255]"
   ]
  },
  {
   "cell_type": "code",
   "execution_count": 10,
   "metadata": {},
   "outputs": [],
   "source": [
    "# scale the raw pixel intensities to the range [0, 1]\n",
    "data = np.array(data, dtype=\"float\") / 255.0\n",
    "labels = np.array(labels)"
   ]
  },
  {
   "cell_type": "markdown",
   "metadata": {},
   "source": [
    "## Train, Test split of 75, 25"
   ]
  },
  {
   "cell_type": "code",
   "execution_count": 11,
   "metadata": {},
   "outputs": [],
   "source": [
    "# partition the data into training and testing splits using 75% of\n",
    "# the data for training and the remaining 25% for testing\n",
    "(trainX, testX, trainY, testY) = train_test_split(data,\n",
    "\tlabels, test_size=0.25, random_state=42)"
   ]
  },
  {
   "cell_type": "code",
   "execution_count": 12,
   "metadata": {},
   "outputs": [],
   "source": [
    "# convert the labels from integers to vectors (for 2-class, binary\n",
    "# classification you should use Keras' to_categorical function\n",
    "# instead as the scikit-learn's LabelBinarizer will not return a\n",
    "# vector)\n",
    "lb = LabelBinarizer()\n",
    "trainY = lb.fit_transform(trainY)\n",
    "testY = lb.transform(testY)"
   ]
  },
  {
   "cell_type": "code",
   "execution_count": 33,
   "metadata": {},
   "outputs": [],
   "source": [
    "# define the 3072-1024-256-3 architecture using Keras\n",
    "model = Sequential()\n",
    "model.add(Dense(1024, input_shape=(3072,), activation=\"sigmoid\"))\n",
    "model.add(Dense(512, activation=\"sigmoid\")) #Hidden 1\n",
    "# model.add(Dense(256, activation=\"sigmoid\")) #Hidden 2\n",
    "# model.add(Dense(148, activation=\"sigmoid\")) #Hidden 3\n",
    "model.add(Dense(len(lb.classes_), activation=\"softmax\")) #How many predictions do you want?"
   ]
  },
  {
   "cell_type": "code",
   "execution_count": 43,
   "metadata": {},
   "outputs": [
    {
     "name": "stdout",
     "output_type": "stream",
     "text": [
      "[INFO] training network...\n"
     ]
    }
   ],
   "source": [
    "# initialize our initial learning rate and # of epochs to train for\n",
    "INIT_LR = 0.01\n",
    "EPOCHS = 100\n",
    " \n",
    "# compile the model using SGD as our optimizer and categorical\n",
    "# cross-entropy loss (you'll want to use binary_crossentropy\n",
    "# for 2-class classification)\n",
    "print(\"[INFO] training network...\")\n",
    "opt = SGD(lr=INIT_LR)\n",
    "model.compile(loss=\"categorical_crossentropy\", optimizer=opt,\n",
    "\tmetrics=[\"accuracy\"])"
   ]
  },
  {
   "cell_type": "code",
   "execution_count": 44,
   "metadata": {},
   "outputs": [
    {
     "name": "stdout",
     "output_type": "stream",
     "text": [
      "Train on 84 samples, validate on 29 samples\n",
      "Epoch 1/100\n",
      "84/84 [==============================] - 1s 7ms/step - loss: 1.1071 - acc: 0.7024 - val_loss: 1.5474 - val_acc: 0.2414\n",
      "Epoch 2/100\n",
      "84/84 [==============================] - 0s 2ms/step - loss: 1.0986 - acc: 0.6310 - val_loss: 1.5479 - val_acc: 0.2414\n",
      "Epoch 3/100\n",
      "84/84 [==============================] - 0s 3ms/step - loss: 1.0884 - acc: 0.7024 - val_loss: 1.5546 - val_acc: 0.4138\n",
      "Epoch 4/100\n",
      "84/84 [==============================] - 0s 2ms/step - loss: 1.0960 - acc: 0.6667 - val_loss: 1.4598 - val_acc: 0.4138\n",
      "Epoch 5/100\n",
      "84/84 [==============================] - 0s 2ms/step - loss: 1.0806 - acc: 0.6786 - val_loss: 1.4369 - val_acc: 0.4138\n",
      "Epoch 6/100\n",
      "84/84 [==============================] - 0s 3ms/step - loss: 1.0843 - acc: 0.7143 - val_loss: 1.5310 - val_acc: 0.3448\n",
      "Epoch 7/100\n",
      "84/84 [==============================] - 0s 2ms/step - loss: 1.0854 - acc: 0.6190 - val_loss: 1.4419 - val_acc: 0.3103\n",
      "Epoch 8/100\n",
      "84/84 [==============================] - 0s 2ms/step - loss: 1.0922 - acc: 0.6548 - val_loss: 1.5135 - val_acc: 0.2759\n",
      "Epoch 9/100\n",
      "84/84 [==============================] - 0s 3ms/step - loss: 1.0636 - acc: 0.6905 - val_loss: 1.4799 - val_acc: 0.3793\n",
      "Epoch 10/100\n",
      "84/84 [==============================] - 0s 3ms/step - loss: 1.0693 - acc: 0.7024 - val_loss: 1.4220 - val_acc: 0.3793\n",
      "Epoch 11/100\n",
      "84/84 [==============================] - 0s 3ms/step - loss: 1.0764 - acc: 0.6667 - val_loss: 1.4418 - val_acc: 0.3448\n",
      "Epoch 12/100\n",
      "84/84 [==============================] - 0s 3ms/step - loss: 1.0640 - acc: 0.7262 - val_loss: 1.5302 - val_acc: 0.2759\n",
      "Epoch 13/100\n",
      "84/84 [==============================] - 0s 2ms/step - loss: 1.0619 - acc: 0.6429 - val_loss: 1.4984 - val_acc: 0.2414\n",
      "Epoch 14/100\n",
      "84/84 [==============================] - 0s 3ms/step - loss: 1.0443 - acc: 0.7619 - val_loss: 1.5360 - val_acc: 0.2759\n",
      "Epoch 15/100\n",
      "84/84 [==============================] - 0s 2ms/step - loss: 1.0380 - acc: 0.7381 - val_loss: 1.4001 - val_acc: 0.3793\n",
      "Epoch 16/100\n",
      "84/84 [==============================] - 0s 3ms/step - loss: 1.0410 - acc: 0.7500 - val_loss: 1.5221 - val_acc: 0.3103\n",
      "Epoch 17/100\n",
      "84/84 [==============================] - 0s 2ms/step - loss: 1.0359 - acc: 0.7262 - val_loss: 1.4702 - val_acc: 0.2759\n",
      "Epoch 18/100\n",
      "84/84 [==============================] - 0s 2ms/step - loss: 1.0235 - acc: 0.7024 - val_loss: 1.5021 - val_acc: 0.4138\n",
      "Epoch 19/100\n",
      "84/84 [==============================] - 0s 2ms/step - loss: 1.0275 - acc: 0.7262 - val_loss: 1.4429 - val_acc: 0.4138\n",
      "Epoch 20/100\n",
      "84/84 [==============================] - 0s 2ms/step - loss: 1.0222 - acc: 0.7262 - val_loss: 1.5103 - val_acc: 0.2414\n",
      "Epoch 21/100\n",
      "84/84 [==============================] - 0s 2ms/step - loss: 1.0233 - acc: 0.7738 - val_loss: 1.5232 - val_acc: 0.3793\n",
      "Epoch 22/100\n",
      "84/84 [==============================] - 0s 2ms/step - loss: 1.0099 - acc: 0.7738 - val_loss: 1.4377 - val_acc: 0.3448\n",
      "Epoch 23/100\n",
      "84/84 [==============================] - 0s 2ms/step - loss: 1.0133 - acc: 0.7143 - val_loss: 1.4309 - val_acc: 0.4483\n",
      "Epoch 24/100\n",
      "84/84 [==============================] - 0s 2ms/step - loss: 0.9996 - acc: 0.7619 - val_loss: 1.4864 - val_acc: 0.3103\n",
      "Epoch 25/100\n",
      "84/84 [==============================] - 0s 2ms/step - loss: 0.9979 - acc: 0.7143 - val_loss: 1.4153 - val_acc: 0.2759\n",
      "Epoch 26/100\n",
      "84/84 [==============================] - 0s 2ms/step - loss: 1.0045 - acc: 0.7381 - val_loss: 1.4936 - val_acc: 0.2759\n",
      "Epoch 27/100\n",
      "84/84 [==============================] - 0s 3ms/step - loss: 1.0009 - acc: 0.7857 - val_loss: 1.4918 - val_acc: 0.2759\n",
      "Epoch 28/100\n",
      "84/84 [==============================] - 0s 2ms/step - loss: 0.9910 - acc: 0.7143 - val_loss: 1.4738 - val_acc: 0.4483\n",
      "Epoch 29/100\n",
      "84/84 [==============================] - 0s 3ms/step - loss: 0.9702 - acc: 0.7738 - val_loss: 1.5566 - val_acc: 0.2759\n",
      "Epoch 30/100\n",
      "84/84 [==============================] - 0s 3ms/step - loss: 0.9758 - acc: 0.6905 - val_loss: 1.4838 - val_acc: 0.2759\n",
      "Epoch 31/100\n",
      "84/84 [==============================] - 0s 3ms/step - loss: 0.9679 - acc: 0.7500 - val_loss: 1.5413 - val_acc: 0.2759\n",
      "Epoch 32/100\n",
      "84/84 [==============================] - 0s 3ms/step - loss: 0.9683 - acc: 0.7500 - val_loss: 1.4982 - val_acc: 0.2759\n",
      "Epoch 33/100\n",
      "84/84 [==============================] - 0s 2ms/step - loss: 0.9685 - acc: 0.7976 - val_loss: 1.6127 - val_acc: 0.3448\n",
      "Epoch 34/100\n",
      "84/84 [==============================] - 0s 2ms/step - loss: 0.9638 - acc: 0.7619 - val_loss: 1.4851 - val_acc: 0.4138\n",
      "Epoch 35/100\n",
      "84/84 [==============================] - 0s 3ms/step - loss: 0.9435 - acc: 0.8095 - val_loss: 1.4088 - val_acc: 0.4138\n",
      "Epoch 36/100\n",
      "84/84 [==============================] - 0s 2ms/step - loss: 0.9506 - acc: 0.7143 - val_loss: 1.4867 - val_acc: 0.2069\n",
      "Epoch 37/100\n",
      "84/84 [==============================] - 0s 3ms/step - loss: 0.9618 - acc: 0.7619 - val_loss: 1.4786 - val_acc: 0.3448\n",
      "Epoch 38/100\n",
      "84/84 [==============================] - 0s 3ms/step - loss: 0.9465 - acc: 0.7738 - val_loss: 1.5263 - val_acc: 0.3103\n",
      "Epoch 39/100\n",
      "84/84 [==============================] - 0s 3ms/step - loss: 0.9337 - acc: 0.7857 - val_loss: 1.4797 - val_acc: 0.2759\n",
      "Epoch 40/100\n",
      "84/84 [==============================] - 0s 2ms/step - loss: 0.9336 - acc: 0.7976 - val_loss: 1.5001 - val_acc: 0.3103\n",
      "Epoch 41/100\n",
      "84/84 [==============================] - 0s 3ms/step - loss: 0.9197 - acc: 0.7500 - val_loss: 1.6120 - val_acc: 0.2414\n",
      "Epoch 42/100\n",
      "84/84 [==============================] - 0s 2ms/step - loss: 0.9264 - acc: 0.7143 - val_loss: 1.5307 - val_acc: 0.3103\n",
      "Epoch 43/100\n",
      "84/84 [==============================] - 0s 3ms/step - loss: 0.9158 - acc: 0.7857 - val_loss: 1.4546 - val_acc: 0.2414\n",
      "Epoch 44/100\n",
      "84/84 [==============================] - 0s 3ms/step - loss: 0.9266 - acc: 0.7500 - val_loss: 1.4695 - val_acc: 0.2069\n",
      "Epoch 45/100\n",
      "84/84 [==============================] - 0s 3ms/step - loss: 0.9045 - acc: 0.7857 - val_loss: 1.4818 - val_acc: 0.3793\n",
      "Epoch 46/100\n",
      "84/84 [==============================] - 0s 2ms/step - loss: 0.8977 - acc: 0.8333 - val_loss: 1.4509 - val_acc: 0.2414\n",
      "Epoch 47/100\n",
      "84/84 [==============================] - 0s 2ms/step - loss: 0.8961 - acc: 0.7857 - val_loss: 1.4997 - val_acc: 0.3448\n",
      "Epoch 48/100\n",
      "84/84 [==============================] - 0s 3ms/step - loss: 0.8847 - acc: 0.7738 - val_loss: 1.5401 - val_acc: 0.3793\n",
      "Epoch 49/100\n",
      "84/84 [==============================] - 0s 3ms/step - loss: 0.8901 - acc: 0.7738 - val_loss: 1.5351 - val_acc: 0.2069\n",
      "Epoch 50/100\n",
      "84/84 [==============================] - 0s 3ms/step - loss: 0.8783 - acc: 0.7619 - val_loss: 1.5300 - val_acc: 0.3793\n",
      "Epoch 51/100\n",
      "84/84 [==============================] - 0s 2ms/step - loss: 0.8637 - acc: 0.8333 - val_loss: 1.4785 - val_acc: 0.4138\n",
      "Epoch 52/100\n",
      "84/84 [==============================] - 0s 3ms/step - loss: 0.8746 - acc: 0.8214 - val_loss: 1.4685 - val_acc: 0.3793\n",
      "Epoch 53/100\n",
      "84/84 [==============================] - 0s 2ms/step - loss: 0.8635 - acc: 0.7738 - val_loss: 1.5622 - val_acc: 0.2759\n",
      "Epoch 54/100\n",
      "84/84 [==============================] - 0s 2ms/step - loss: 0.8599 - acc: 0.7976 - val_loss: 1.5080 - val_acc: 0.3103\n",
      "Epoch 55/100\n",
      "84/84 [==============================] - 0s 2ms/step - loss: 0.8628 - acc: 0.8333 - val_loss: 1.5535 - val_acc: 0.2759\n",
      "Epoch 56/100\n",
      "84/84 [==============================] - 0s 2ms/step - loss: 0.8564 - acc: 0.8333 - val_loss: 1.4565 - val_acc: 0.4138\n",
      "Epoch 57/100\n",
      "84/84 [==============================] - 0s 2ms/step - loss: 0.8344 - acc: 0.8452 - val_loss: 1.4464 - val_acc: 0.4138\n",
      "Epoch 58/100\n",
      "84/84 [==============================] - 0s 2ms/step - loss: 0.8369 - acc: 0.7976 - val_loss: 1.4674 - val_acc: 0.3793\n",
      "Epoch 59/100\n",
      "84/84 [==============================] - 0s 2ms/step - loss: 0.8468 - acc: 0.8452 - val_loss: 1.5335 - val_acc: 0.3793\n",
      "Epoch 60/100\n",
      "84/84 [==============================] - 0s 2ms/step - loss: 0.8255 - acc: 0.8333 - val_loss: 1.4389 - val_acc: 0.2414\n",
      "Epoch 61/100\n",
      "84/84 [==============================] - 0s 2ms/step - loss: 0.8349 - acc: 0.8095 - val_loss: 1.4376 - val_acc: 0.2759\n",
      "Epoch 62/100\n",
      "84/84 [==============================] - 0s 2ms/step - loss: 0.8152 - acc: 0.8452 - val_loss: 1.4777 - val_acc: 0.3448\n"
     ]
    },
    {
     "name": "stdout",
     "output_type": "stream",
     "text": [
      "Epoch 63/100\n",
      "84/84 [==============================] - 0s 2ms/step - loss: 0.8134 - acc: 0.8452 - val_loss: 1.5077 - val_acc: 0.4483\n",
      "Epoch 64/100\n",
      "84/84 [==============================] - 0s 2ms/step - loss: 0.8028 - acc: 0.8095 - val_loss: 1.4126 - val_acc: 0.3103\n",
      "Epoch 65/100\n",
      "84/84 [==============================] - 0s 3ms/step - loss: 0.8111 - acc: 0.7976 - val_loss: 1.4149 - val_acc: 0.3793\n",
      "Epoch 66/100\n",
      "84/84 [==============================] - 0s 3ms/step - loss: 0.8033 - acc: 0.8214 - val_loss: 1.4854 - val_acc: 0.3448\n",
      "Epoch 67/100\n",
      "84/84 [==============================] - 0s 3ms/step - loss: 0.8028 - acc: 0.8214 - val_loss: 1.5179 - val_acc: 0.5172\n",
      "Epoch 68/100\n",
      "84/84 [==============================] - 0s 2ms/step - loss: 0.8002 - acc: 0.8452 - val_loss: 1.4262 - val_acc: 0.3448\n",
      "Epoch 69/100\n",
      "84/84 [==============================] - 0s 2ms/step - loss: 0.7882 - acc: 0.8452 - val_loss: 1.4778 - val_acc: 0.4138\n",
      "Epoch 70/100\n",
      "84/84 [==============================] - 0s 2ms/step - loss: 0.7798 - acc: 0.8571 - val_loss: 1.4495 - val_acc: 0.3448\n",
      "Epoch 71/100\n",
      "84/84 [==============================] - 0s 3ms/step - loss: 0.7847 - acc: 0.8571 - val_loss: 1.6164 - val_acc: 0.3103\n",
      "Epoch 72/100\n",
      "84/84 [==============================] - 0s 2ms/step - loss: 0.7904 - acc: 0.7857 - val_loss: 1.5944 - val_acc: 0.2759\n",
      "Epoch 73/100\n",
      "84/84 [==============================] - 0s 3ms/step - loss: 0.7692 - acc: 0.7976 - val_loss: 1.5130 - val_acc: 0.3793\n",
      "Epoch 74/100\n",
      "84/84 [==============================] - 0s 2ms/step - loss: 0.7637 - acc: 0.8214 - val_loss: 1.4693 - val_acc: 0.3448\n",
      "Epoch 75/100\n",
      "84/84 [==============================] - 0s 2ms/step - loss: 0.7556 - acc: 0.8452 - val_loss: 1.4213 - val_acc: 0.3103\n",
      "Epoch 76/100\n",
      "84/84 [==============================] - 0s 3ms/step - loss: 0.7671 - acc: 0.8452 - val_loss: 1.5022 - val_acc: 0.3103\n",
      "Epoch 77/100\n",
      "84/84 [==============================] - 0s 2ms/step - loss: 0.7592 - acc: 0.8333 - val_loss: 1.4473 - val_acc: 0.3448\n",
      "Epoch 78/100\n",
      "84/84 [==============================] - 0s 3ms/step - loss: 0.7483 - acc: 0.8214 - val_loss: 1.3991 - val_acc: 0.3103\n",
      "Epoch 79/100\n",
      "84/84 [==============================] - 0s 2ms/step - loss: 0.7610 - acc: 0.8333 - val_loss: 1.4993 - val_acc: 0.4483\n",
      "Epoch 80/100\n",
      "84/84 [==============================] - 0s 3ms/step - loss: 0.7350 - acc: 0.8690 - val_loss: 1.5012 - val_acc: 0.3103\n",
      "Epoch 81/100\n",
      "84/84 [==============================] - 0s 2ms/step - loss: 0.7333 - acc: 0.8690 - val_loss: 1.5180 - val_acc: 0.3103\n",
      "Epoch 82/100\n",
      "84/84 [==============================] - 0s 3ms/step - loss: 0.7179 - acc: 0.8571 - val_loss: 1.5080 - val_acc: 0.3448\n",
      "Epoch 83/100\n",
      "84/84 [==============================] - 0s 2ms/step - loss: 0.7123 - acc: 0.8810 - val_loss: 1.5347 - val_acc: 0.3793\n",
      "Epoch 84/100\n",
      "84/84 [==============================] - 0s 3ms/step - loss: 0.7192 - acc: 0.8452 - val_loss: 1.4266 - val_acc: 0.4483\n",
      "Epoch 85/100\n",
      "84/84 [==============================] - 0s 2ms/step - loss: 0.7175 - acc: 0.8571 - val_loss: 1.5347 - val_acc: 0.3448\n",
      "Epoch 86/100\n",
      "84/84 [==============================] - 0s 3ms/step - loss: 0.6905 - acc: 0.8452 - val_loss: 1.5141 - val_acc: 0.3103\n",
      "Epoch 87/100\n",
      "84/84 [==============================] - 0s 3ms/step - loss: 0.7088 - acc: 0.8452 - val_loss: 1.5751 - val_acc: 0.3793\n",
      "Epoch 88/100\n",
      "84/84 [==============================] - 0s 2ms/step - loss: 0.6879 - acc: 0.8571 - val_loss: 1.4161 - val_acc: 0.3448\n",
      "Epoch 89/100\n",
      "84/84 [==============================] - 0s 3ms/step - loss: 0.6924 - acc: 0.8571 - val_loss: 1.5031 - val_acc: 0.2414\n",
      "Epoch 90/100\n",
      "84/84 [==============================] - 0s 3ms/step - loss: 0.6920 - acc: 0.8571 - val_loss: 1.4627 - val_acc: 0.2759\n",
      "Epoch 91/100\n",
      "84/84 [==============================] - 0s 2ms/step - loss: 0.6886 - acc: 0.8333 - val_loss: 1.4950 - val_acc: 0.3793\n",
      "Epoch 92/100\n",
      "84/84 [==============================] - 0s 3ms/step - loss: 0.6757 - acc: 0.8452 - val_loss: 1.4997 - val_acc: 0.4138\n",
      "Epoch 93/100\n",
      "84/84 [==============================] - 0s 3ms/step - loss: 0.6673 - acc: 0.8810 - val_loss: 1.5215 - val_acc: 0.4138\n",
      "Epoch 94/100\n",
      "84/84 [==============================] - 0s 3ms/step - loss: 0.6725 - acc: 0.8571 - val_loss: 1.5148 - val_acc: 0.3793\n",
      "Epoch 95/100\n",
      "84/84 [==============================] - 0s 3ms/step - loss: 0.6601 - acc: 0.8571 - val_loss: 1.4585 - val_acc: 0.3793\n",
      "Epoch 96/100\n",
      "84/84 [==============================] - 0s 3ms/step - loss: 0.6544 - acc: 0.8810 - val_loss: 1.6261 - val_acc: 0.2759\n",
      "Epoch 97/100\n",
      "84/84 [==============================] - 0s 3ms/step - loss: 0.6638 - acc: 0.8452 - val_loss: 1.5973 - val_acc: 0.3103\n",
      "Epoch 98/100\n",
      "84/84 [==============================] - 0s 2ms/step - loss: 0.6437 - acc: 0.8452 - val_loss: 1.4833 - val_acc: 0.4138\n",
      "Epoch 99/100\n",
      "84/84 [==============================] - 0s 3ms/step - loss: 0.6427 - acc: 0.8690 - val_loss: 1.5618 - val_acc: 0.4483\n",
      "Epoch 100/100\n",
      "84/84 [==============================] - 0s 2ms/step - loss: 0.6427 - acc: 0.8690 - val_loss: 1.4492 - val_acc: 0.3103\n"
     ]
    }
   ],
   "source": [
    "# train the neural network\n",
    "H = model.fit(trainX, trainY, validation_data=(testX, testY),\n",
    "\tepochs=EPOCHS, batch_size=9)"
   ]
  },
  {
   "cell_type": "code",
   "execution_count": 45,
   "metadata": {},
   "outputs": [
    {
     "name": "stdout",
     "output_type": "stream",
     "text": [
      "[INFO] evaluating network...\n",
      "                     precision    recall  f1-score   support\n",
      "\n",
      "       akshay_kumar       0.00      0.00      0.00         4\n",
      "       katrina_kaif       0.17      0.25      0.20         4\n",
      "nawazuddin_siddiqui       0.29      0.22      0.25         9\n",
      "      ranbir_kapoor       0.40      0.40      0.40         5\n",
      "        zarine_khan       0.50      0.57      0.53         7\n",
      "\n",
      "          micro avg       0.31      0.31      0.31        29\n",
      "          macro avg       0.27      0.29      0.28        29\n",
      "       weighted avg       0.30      0.31      0.30        29\n",
      "\n"
     ]
    }
   ],
   "source": [
    "# evaluate the network\n",
    "print(\"[INFO] evaluating network...\")\n",
    "predictions = model.predict(testX, batch_size=32)\n",
    "print(classification_report(testY.argmax(axis=1),\n",
    "\tpredictions.argmax(axis=1), target_names=lb.classes_))\n",
    " \n",
    "# plot the training loss and accuracy\n",
    "N = np.arange(0, EPOCHS)\n",
    "plt.style.use(\"ggplot\")\n",
    "plt.figure()\n",
    "plt.plot(N, H.history[\"loss\"], label=\"train_loss\")\n",
    "plt.plot(N, H.history[\"val_loss\"], label=\"val_loss\")\n",
    "plt.plot(N, H.history[\"acc\"], label=\"train_acc\")\n",
    "plt.plot(N, H.history[\"val_acc\"], label=\"val_acc\")\n",
    "plt.title(\"Training Loss and Accuracy (Simple NN)\")\n",
    "plt.xlabel(\"Epoch #\")\n",
    "plt.ylabel(\"Loss/Accuracy\")\n",
    "plt.legend()\n",
    "plt.savefig('stats.png')"
   ]
  },
  {
   "cell_type": "code",
   "execution_count": null,
   "metadata": {
    "collapsed": true
   },
   "outputs": [],
   "source": []
  }
 ],
 "metadata": {
  "kernelspec": {
   "display_name": "Python 3",
   "language": "python",
   "name": "python3"
  },
  "language_info": {
   "codemirror_mode": {
    "name": "ipython",
    "version": 3
   },
   "file_extension": ".py",
   "mimetype": "text/x-python",
   "name": "python",
   "nbconvert_exporter": "python",
   "pygments_lexer": "ipython3",
   "version": "3.6.7"
  }
 },
 "nbformat": 4,
 "nbformat_minor": 2
}
