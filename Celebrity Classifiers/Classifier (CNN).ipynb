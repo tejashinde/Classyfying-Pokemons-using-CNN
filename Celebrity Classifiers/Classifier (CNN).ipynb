{
 "cells": [
  {
   "cell_type": "code",
   "execution_count": 1,
   "metadata": {},
   "outputs": [
    {
     "name": "stderr",
     "output_type": "stream",
     "text": [
      "Using TensorFlow backend.\n"
     ]
    }
   ],
   "source": [
    "import matplotlib\n",
    "matplotlib.use(\"Agg\")\n",
    " \n",
    "# import the necessary packages\n",
    "from sklearn.preprocessing import LabelBinarizer\n",
    "from sklearn.model_selection import train_test_split\n",
    "from sklearn.metrics import classification_report\n",
    "from keras.models import Sequential\n",
    "from keras.layers.core import Dense\n",
    "from keras.optimizers import SGD\n",
    "from imutils import paths\n",
    "import matplotlib.pyplot as plt\n",
    "import numpy as np\n",
    "import argparse\n",
    "import random\n",
    "import pickle\n",
    "import cv2\n",
    "from PIL import Image\n",
    "import os"
   ]
  },
  {
   "cell_type": "code",
   "execution_count": 2,
   "metadata": {},
   "outputs": [],
   "source": [
    "# initialize the data and labels\n",
    "data = []\n",
    "labels = []"
   ]
  },
  {
   "cell_type": "code",
   "execution_count": 3,
   "metadata": {},
   "outputs": [],
   "source": [
    "# grab the image paths and randomly shuffle them\n",
    "imagePaths = sorted(list(paths.list_images('images/')))\n",
    "random.seed(42)\n",
    "random.shuffle(imagePaths)"
   ]
  },
  {
   "cell_type": "code",
   "execution_count": 4,
   "metadata": {},
   "outputs": [
    {
     "data": {
      "text/plain": [
       "['images/katrina_kaif/268678a08a4542e78a35414cd6ee4263.jpg',\n",
       " 'images/akshay_kumar/c653ac1e91d94af1960e41e33f06ae82.jpeg',\n",
       " 'images/katrina_kaif/82eb7af9a60344c3a4d6bffde6761836.jpg',\n",
       " 'images/akshay_kumar/fdd6bc1075204110a18ab3adef7a945e.jpg',\n",
       " 'images/nawazuddin_siddiqui/186587c23f914fdba51e3ed41b33387f.jpg']"
      ]
     },
     "execution_count": 4,
     "metadata": {},
     "output_type": "execute_result"
    }
   ],
   "source": [
    "imagePaths[:5]"
   ]
  },
  {
   "cell_type": "markdown",
   "metadata": {},
   "source": [
    "## Resize, Flatten and append to data,label lists\n",
    "### Flattening: 32x32x3 = 3072"
   ]
  },
  {
   "cell_type": "code",
   "execution_count": 5,
   "metadata": {},
   "outputs": [],
   "source": [
    "for imagePath in imagePaths:\n",
    "\timage = cv2.imread(imagePath)\n",
    "    # flatten the image into 32x32x3=3072\n",
    "\timage = cv2.resize(image, (32, 32)).flatten()\n",
    "\tdata.append(image)\n",
    " \n",
    "\t# extract the class label from the image path and update the labels list\n",
    "\tlabel = imagePath.split(os.path.sep)[-2]\n",
    "\tlabels.append(label)"
   ]
  },
  {
   "cell_type": "code",
   "execution_count": 6,
   "metadata": {},
   "outputs": [
    {
     "data": {
      "text/plain": [
       "array([255, 255, 255, ...,  49,  83, 137], dtype=uint8)"
      ]
     },
     "execution_count": 6,
     "metadata": {},
     "output_type": "execute_result"
    }
   ],
   "source": [
    "data[:1][0]"
   ]
  },
  {
   "cell_type": "markdown",
   "metadata": {},
   "source": [
    "## Scale the raw pixel intensities to the range [0, 1] from [0, 255]"
   ]
  },
  {
   "cell_type": "code",
   "execution_count": 7,
   "metadata": {},
   "outputs": [],
   "source": [
    "# scale the raw pixel intensities to the range [0, 1]\n",
    "data = np.array(data, dtype=\"float\") / 255.0\n",
    "labels = np.array(labels)"
   ]
  },
  {
   "cell_type": "markdown",
   "metadata": {},
   "source": [
    "## Train, Test split of 75, 25"
   ]
  },
  {
   "cell_type": "code",
   "execution_count": 8,
   "metadata": {},
   "outputs": [],
   "source": [
    "# partition the data into training and testing splits using 75% of\n",
    "# the data for training and the remaining 25% for testing\n",
    "(trainX, testX, trainY, testY) = train_test_split(data,\n",
    "\tlabels, test_size=0.25, random_state=42)"
   ]
  },
  {
   "cell_type": "code",
   "execution_count": 9,
   "metadata": {},
   "outputs": [],
   "source": [
    "# convert the labels from integers to vectors (for 2-class, binary\n",
    "# classification you should use Keras' to_categorical function\n",
    "# instead as the scikit-learn's LabelBinarizer will not return a\n",
    "# vector)\n",
    "lb = LabelBinarizer()\n",
    "trainY = lb.fit_transform(trainY)\n",
    "testY = lb.transform(testY)"
   ]
  },
  {
   "cell_type": "code",
   "execution_count": 10,
   "metadata": {},
   "outputs": [],
   "source": [
    "# define the 3072-1024-256-3 architecture using Keras\n",
    "model = Sequential()\n",
    "model.add(Dense(1024, input_shape=(3072,), activation=\"sigmoid\"))\n",
    "model.add(Dense(512, activation=\"sigmoid\")) #Hidden 1\n",
    "model.add(Dense(256, activation=\"sigmoid\")) #Hidden 2\n",
    "# model.add(Dense(128, activation=\"sigmoid\")) #Hidden 3\n",
    "model.add(Dense(5, activation=\"softmax\")) #How many predictions do you want?"
   ]
  },
  {
   "cell_type": "code",
   "execution_count": 16,
   "metadata": {},
   "outputs": [
    {
     "name": "stdout",
     "output_type": "stream",
     "text": [
      "[INFO] training network...\n"
     ]
    }
   ],
   "source": [
    "# initialize our initial learning rate and # of epochs to train for\n",
    "INIT_LR = 0.1\n",
    "EPOCHS = 90\n",
    "# compile the model using SGD as our optimizer and categorical\n",
    "# cross-entropy loss (you'll want to use binary_crossentropy\n",
    "# for 2-class classification)\n",
    "print(\"[INFO] training network...\")\n",
    "opt = SGD(lr=INIT_LR)\n",
    "model.compile(loss=\"categorical_crossentropy\", optimizer=opt,\n",
    "\tmetrics=[\"accuracy\"])"
   ]
  },
  {
   "cell_type": "code",
   "execution_count": 19,
   "metadata": {},
   "outputs": [
    {
     "name": "stdout",
     "output_type": "stream",
     "text": [
      "Train on 84 samples, validate on 29 samples\n",
      "Epoch 1/90\n",
      "84/84 [==============================] - 0s 4ms/step - loss: 0.0012 - acc: 1.0000 - val_loss: 4.5956 - val_acc: 0.2759\n",
      "Epoch 2/90\n",
      "84/84 [==============================] - 0s 4ms/step - loss: 0.0012 - acc: 1.0000 - val_loss: 4.5984 - val_acc: 0.2759\n",
      "Epoch 3/90\n",
      "84/84 [==============================] - 0s 4ms/step - loss: 0.0012 - acc: 1.0000 - val_loss: 4.5986 - val_acc: 0.2759\n",
      "Epoch 4/90\n",
      "84/84 [==============================] - 0s 4ms/step - loss: 0.0012 - acc: 1.0000 - val_loss: 4.5973 - val_acc: 0.2759\n",
      "Epoch 5/90\n",
      "84/84 [==============================] - 0s 4ms/step - loss: 0.0012 - acc: 1.0000 - val_loss: 4.5969 - val_acc: 0.2759\n",
      "Epoch 6/90\n",
      "84/84 [==============================] - 0s 4ms/step - loss: 0.0012 - acc: 1.0000 - val_loss: 4.6034 - val_acc: 0.2759\n",
      "Epoch 7/90\n",
      "84/84 [==============================] - 0s 4ms/step - loss: 0.0012 - acc: 1.0000 - val_loss: 4.6037 - val_acc: 0.2759\n",
      "Epoch 8/90\n",
      "84/84 [==============================] - 0s 4ms/step - loss: 0.0012 - acc: 1.0000 - val_loss: 4.6055 - val_acc: 0.2759\n",
      "Epoch 9/90\n",
      "84/84 [==============================] - 0s 4ms/step - loss: 0.0012 - acc: 1.0000 - val_loss: 4.6091 - val_acc: 0.2759\n",
      "Epoch 10/90\n",
      "84/84 [==============================] - 0s 4ms/step - loss: 0.0012 - acc: 1.0000 - val_loss: 4.6107 - val_acc: 0.2759\n",
      "Epoch 11/90\n",
      "84/84 [==============================] - 0s 5ms/step - loss: 0.0011 - acc: 1.0000 - val_loss: 4.6087 - val_acc: 0.2759\n",
      "Epoch 12/90\n",
      "84/84 [==============================] - 0s 5ms/step - loss: 0.0011 - acc: 1.0000 - val_loss: 4.6146 - val_acc: 0.2759\n",
      "Epoch 13/90\n",
      "84/84 [==============================] - 0s 4ms/step - loss: 0.0011 - acc: 1.0000 - val_loss: 4.6168 - val_acc: 0.2759\n",
      "Epoch 14/90\n",
      "84/84 [==============================] - 0s 4ms/step - loss: 0.0011 - acc: 1.0000 - val_loss: 4.6221 - val_acc: 0.2759\n",
      "Epoch 15/90\n",
      "84/84 [==============================] - 0s 4ms/step - loss: 0.0011 - acc: 1.0000 - val_loss: 4.6222 - val_acc: 0.2759\n",
      "Epoch 16/90\n",
      "84/84 [==============================] - 0s 6ms/step - loss: 0.0011 - acc: 1.0000 - val_loss: 4.6260 - val_acc: 0.2759\n",
      "Epoch 17/90\n",
      "84/84 [==============================] - 0s 5ms/step - loss: 0.0011 - acc: 1.0000 - val_loss: 4.6350 - val_acc: 0.2759\n",
      "Epoch 18/90\n",
      "84/84 [==============================] - 0s 5ms/step - loss: 0.0011 - acc: 1.0000 - val_loss: 4.6330 - val_acc: 0.2759\n",
      "Epoch 19/90\n",
      "84/84 [==============================] - 0s 5ms/step - loss: 0.0011 - acc: 1.0000 - val_loss: 4.6311 - val_acc: 0.2759\n",
      "Epoch 20/90\n",
      "84/84 [==============================] - 0s 5ms/step - loss: 0.0011 - acc: 1.0000 - val_loss: 4.6358 - val_acc: 0.2759\n",
      "Epoch 21/90\n",
      "84/84 [==============================] - 0s 5ms/step - loss: 0.0011 - acc: 1.0000 - val_loss: 4.6377 - val_acc: 0.2759\n",
      "Epoch 22/90\n",
      "84/84 [==============================] - 0s 5ms/step - loss: 0.0011 - acc: 1.0000 - val_loss: 4.6395 - val_acc: 0.2759\n",
      "Epoch 23/90\n",
      "84/84 [==============================] - 0s 5ms/step - loss: 0.0011 - acc: 1.0000 - val_loss: 4.6414 - val_acc: 0.2759\n",
      "Epoch 24/90\n",
      "84/84 [==============================] - 0s 5ms/step - loss: 0.0011 - acc: 1.0000 - val_loss: 4.6432 - val_acc: 0.2759\n",
      "Epoch 25/90\n",
      "84/84 [==============================] - 0s 5ms/step - loss: 0.0011 - acc: 1.0000 - val_loss: 4.6447 - val_acc: 0.2759\n",
      "Epoch 26/90\n",
      "84/84 [==============================] - 0s 5ms/step - loss: 0.0011 - acc: 1.0000 - val_loss: 4.6473 - val_acc: 0.2759\n",
      "Epoch 27/90\n",
      "84/84 [==============================] - 0s 5ms/step - loss: 0.0011 - acc: 1.0000 - val_loss: 4.6499 - val_acc: 0.2759\n",
      "Epoch 28/90\n",
      "84/84 [==============================] - 0s 5ms/step - loss: 0.0010 - acc: 1.0000 - val_loss: 4.6515 - val_acc: 0.2759\n",
      "Epoch 29/90\n",
      "84/84 [==============================] - 0s 5ms/step - loss: 0.0010 - acc: 1.0000 - val_loss: 4.6558 - val_acc: 0.2759\n",
      "Epoch 30/90\n",
      "84/84 [==============================] - 0s 5ms/step - loss: 0.0010 - acc: 1.0000 - val_loss: 4.6580 - val_acc: 0.2759\n",
      "Epoch 31/90\n",
      "84/84 [==============================] - 0s 5ms/step - loss: 0.0010 - acc: 1.0000 - val_loss: 4.6631 - val_acc: 0.2759\n",
      "Epoch 32/90\n",
      "84/84 [==============================] - 0s 5ms/step - loss: 0.0010 - acc: 1.0000 - val_loss: 4.6617 - val_acc: 0.2759\n",
      "Epoch 33/90\n",
      "84/84 [==============================] - 0s 4ms/step - loss: 0.0010 - acc: 1.0000 - val_loss: 4.6644 - val_acc: 0.2759\n",
      "Epoch 34/90\n",
      "84/84 [==============================] - 0s 4ms/step - loss: 0.0010 - acc: 1.0000 - val_loss: 4.6630 - val_acc: 0.2759\n",
      "Epoch 35/90\n",
      "84/84 [==============================] - 0s 4ms/step - loss: 0.0010 - acc: 1.0000 - val_loss: 4.6653 - val_acc: 0.2759\n",
      "Epoch 36/90\n",
      "84/84 [==============================] - 0s 5ms/step - loss: 0.0010 - acc: 1.0000 - val_loss: 4.6676 - val_acc: 0.2759\n",
      "Epoch 37/90\n",
      "84/84 [==============================] - 0s 4ms/step - loss: 0.0010 - acc: 1.0000 - val_loss: 4.6723 - val_acc: 0.2759\n",
      "Epoch 38/90\n",
      "84/84 [==============================] - 0s 6ms/step - loss: 9.9897e-04 - acc: 1.0000 - val_loss: 4.6716 - val_acc: 0.2759\n",
      "Epoch 39/90\n",
      "84/84 [==============================] - 0s 6ms/step - loss: 9.9212e-04 - acc: 1.0000 - val_loss: 4.6734 - val_acc: 0.2759\n",
      "Epoch 40/90\n",
      "84/84 [==============================] - 0s 5ms/step - loss: 9.8862e-04 - acc: 1.0000 - val_loss: 4.6754 - val_acc: 0.2759\n",
      "Epoch 41/90\n",
      "84/84 [==============================] - 0s 5ms/step - loss: 9.8251e-04 - acc: 1.0000 - val_loss: 4.6775 - val_acc: 0.2759\n",
      "Epoch 42/90\n",
      "84/84 [==============================] - 0s 6ms/step - loss: 9.7921e-04 - acc: 1.0000 - val_loss: 4.6794 - val_acc: 0.2759\n",
      "Epoch 43/90\n",
      "84/84 [==============================] - 0s 5ms/step - loss: 9.7396e-04 - acc: 1.0000 - val_loss: 4.6817 - val_acc: 0.2759\n",
      "Epoch 44/90\n",
      "84/84 [==============================] - 0s 5ms/step - loss: 9.7024e-04 - acc: 1.0000 - val_loss: 4.6861 - val_acc: 0.2759\n",
      "Epoch 45/90\n",
      "84/84 [==============================] - 0s 6ms/step - loss: 9.6522e-04 - acc: 1.0000 - val_loss: 4.6844 - val_acc: 0.2759\n",
      "Epoch 46/90\n",
      "84/84 [==============================] - 0s 5ms/step - loss: 9.6095e-04 - acc: 1.0000 - val_loss: 4.6874 - val_acc: 0.2759\n",
      "Epoch 47/90\n",
      "84/84 [==============================] - 0s 5ms/step - loss: 9.5640e-04 - acc: 1.0000 - val_loss: 4.6902 - val_acc: 0.2759\n",
      "Epoch 48/90\n",
      "84/84 [==============================] - 0s 5ms/step - loss: 9.5123e-04 - acc: 1.0000 - val_loss: 4.6890 - val_acc: 0.2759\n",
      "Epoch 49/90\n",
      "84/84 [==============================] - 0s 4ms/step - loss: 9.4807e-04 - acc: 1.0000 - val_loss: 4.6893 - val_acc: 0.2759\n",
      "Epoch 50/90\n",
      "84/84 [==============================] - 0s 5ms/step - loss: 9.4324e-04 - acc: 1.0000 - val_loss: 4.6949 - val_acc: 0.2759\n",
      "Epoch 51/90\n",
      "84/84 [==============================] - 0s 5ms/step - loss: 9.3901e-04 - acc: 1.0000 - val_loss: 4.6968 - val_acc: 0.2759\n",
      "Epoch 52/90\n",
      "84/84 [==============================] - 0s 5ms/step - loss: 9.3478e-04 - acc: 1.0000 - val_loss: 4.6961 - val_acc: 0.2759\n",
      "Epoch 53/90\n",
      "84/84 [==============================] - 0s 4ms/step - loss: 9.3019e-04 - acc: 1.0000 - val_loss: 4.6949 - val_acc: 0.2759\n",
      "Epoch 54/90\n",
      "84/84 [==============================] - 0s 4ms/step - loss: 9.2646e-04 - acc: 1.0000 - val_loss: 4.7029 - val_acc: 0.2759\n",
      "Epoch 55/90\n",
      "84/84 [==============================] - 0s 5ms/step - loss: 9.2070e-04 - acc: 1.0000 - val_loss: 4.7071 - val_acc: 0.2759\n",
      "Epoch 56/90\n",
      "84/84 [==============================] - 0s 5ms/step - loss: 9.1702e-04 - acc: 1.0000 - val_loss: 4.7070 - val_acc: 0.2759\n",
      "Epoch 57/90\n",
      "84/84 [==============================] - 0s 4ms/step - loss: 9.1386e-04 - acc: 1.0000 - val_loss: 4.7065 - val_acc: 0.2759\n",
      "Epoch 58/90\n",
      "84/84 [==============================] - 0s 4ms/step - loss: 9.0865e-04 - acc: 1.0000 - val_loss: 4.7059 - val_acc: 0.2759\n",
      "Epoch 59/90\n",
      "84/84 [==============================] - 0s 4ms/step - loss: 9.0530e-04 - acc: 1.0000 - val_loss: 4.7114 - val_acc: 0.2759\n",
      "Epoch 60/90\n",
      "84/84 [==============================] - 0s 5ms/step - loss: 9.0221e-04 - acc: 1.0000 - val_loss: 4.7153 - val_acc: 0.2759\n",
      "Epoch 61/90\n",
      "84/84 [==============================] - 0s 5ms/step - loss: 8.9720e-04 - acc: 1.0000 - val_loss: 4.7179 - val_acc: 0.2759\n",
      "Epoch 62/90\n",
      "84/84 [==============================] - 0s 4ms/step - loss: 8.9252e-04 - acc: 1.0000 - val_loss: 4.7193 - val_acc: 0.2759\n",
      "Epoch 63/90\n",
      "84/84 [==============================] - 0s 5ms/step - loss: 8.9109e-04 - acc: 1.0000 - val_loss: 4.7206 - val_acc: 0.2759\n",
      "Epoch 64/90\n",
      "84/84 [==============================] - 0s 4ms/step - loss: 8.8606e-04 - acc: 1.0000 - val_loss: 4.7192 - val_acc: 0.2759\n",
      "Epoch 65/90\n",
      "84/84 [==============================] - 0s 4ms/step - loss: 8.8203e-04 - acc: 1.0000 - val_loss: 4.7217 - val_acc: 0.2759\n",
      "Epoch 66/90\n",
      "84/84 [==============================] - 0s 5ms/step - loss: 8.7841e-04 - acc: 1.0000 - val_loss: 4.7206 - val_acc: 0.2759\n",
      "Epoch 67/90\n",
      "84/84 [==============================] - 0s 5ms/step - loss: 8.7405e-04 - acc: 1.0000 - val_loss: 4.7191 - val_acc: 0.2759\n",
      "Epoch 68/90\n",
      "84/84 [==============================] - 0s 5ms/step - loss: 8.7034e-04 - acc: 1.0000 - val_loss: 4.7225 - val_acc: 0.2759\n",
      "Epoch 69/90\n",
      "84/84 [==============================] - 0s 4ms/step - loss: 8.6691e-04 - acc: 1.0000 - val_loss: 4.7238 - val_acc: 0.2759\n",
      "Epoch 70/90\n",
      "84/84 [==============================] - 0s 5ms/step - loss: 8.6334e-04 - acc: 1.0000 - val_loss: 4.7288 - val_acc: 0.2759\n",
      "Epoch 71/90\n",
      "84/84 [==============================] - 0s 5ms/step - loss: 8.6050e-04 - acc: 1.0000 - val_loss: 4.7321 - val_acc: 0.2759\n",
      "Epoch 72/90\n",
      "84/84 [==============================] - 0s 5ms/step - loss: 8.5633e-04 - acc: 1.0000 - val_loss: 4.7332 - val_acc: 0.2759\n",
      "Epoch 73/90\n",
      "84/84 [==============================] - 0s 4ms/step - loss: 8.5355e-04 - acc: 1.0000 - val_loss: 4.7371 - val_acc: 0.2759\n",
      "Epoch 74/90\n",
      "84/84 [==============================] - 0s 4ms/step - loss: 8.4955e-04 - acc: 1.0000 - val_loss: 4.7375 - val_acc: 0.2759\n",
      "Epoch 75/90\n",
      "84/84 [==============================] - 0s 4ms/step - loss: 8.4535e-04 - acc: 1.0000 - val_loss: 4.7337 - val_acc: 0.2759\n",
      "Epoch 76/90\n",
      "84/84 [==============================] - 0s 4ms/step - loss: 8.4137e-04 - acc: 1.0000 - val_loss: 4.7382 - val_acc: 0.2759\n",
      "Epoch 77/90\n",
      "84/84 [==============================] - 0s 4ms/step - loss: 8.3875e-04 - acc: 1.0000 - val_loss: 4.7403 - val_acc: 0.2759\n",
      "Epoch 78/90\n",
      "84/84 [==============================] - 0s 4ms/step - loss: 8.3594e-04 - acc: 1.0000 - val_loss: 4.7450 - val_acc: 0.2759\n",
      "Epoch 79/90\n",
      "84/84 [==============================] - 0s 4ms/step - loss: 8.3222e-04 - acc: 1.0000 - val_loss: 4.7464 - val_acc: 0.2759\n",
      "Epoch 80/90\n",
      "84/84 [==============================] - 0s 4ms/step - loss: 8.2877e-04 - acc: 1.0000 - val_loss: 4.7477 - val_acc: 0.2759\n",
      "Epoch 81/90\n",
      "84/84 [==============================] - 0s 4ms/step - loss: 8.2585e-04 - acc: 1.0000 - val_loss: 4.7490 - val_acc: 0.2759\n",
      "Epoch 82/90\n",
      "84/84 [==============================] - 0s 4ms/step - loss: 8.2201e-04 - acc: 1.0000 - val_loss: 4.7496 - val_acc: 0.2759\n",
      "Epoch 83/90\n",
      "84/84 [==============================] - 0s 4ms/step - loss: 8.1929e-04 - acc: 1.0000 - val_loss: 4.7501 - val_acc: 0.2759\n",
      "Epoch 84/90\n",
      "84/84 [==============================] - 0s 4ms/step - loss: 8.1576e-04 - acc: 1.0000 - val_loss: 4.7533 - val_acc: 0.2759\n",
      "Epoch 85/90\n",
      "84/84 [==============================] - 0s 4ms/step - loss: 8.1276e-04 - acc: 1.0000 - val_loss: 4.7532 - val_acc: 0.2759\n",
      "Epoch 86/90\n",
      "84/84 [==============================] - 0s 4ms/step - loss: 8.0881e-04 - acc: 1.0000 - val_loss: 4.7559 - val_acc: 0.2759\n",
      "Epoch 87/90\n",
      "84/84 [==============================] - 0s 4ms/step - loss: 8.0535e-04 - acc: 1.0000 - val_loss: 4.7580 - val_acc: 0.2759\n",
      "Epoch 88/90\n",
      "84/84 [==============================] - 0s 4ms/step - loss: 8.0220e-04 - acc: 1.0000 - val_loss: 4.7615 - val_acc: 0.2759\n",
      "Epoch 89/90\n",
      "84/84 [==============================] - 0s 5ms/step - loss: 7.9899e-04 - acc: 1.0000 - val_loss: 4.7627 - val_acc: 0.2759\n",
      "Epoch 90/90\n",
      "84/84 [==============================] - 0s 5ms/step - loss: 7.9695e-04 - acc: 1.0000 - val_loss: 4.7628 - val_acc: 0.2759\n"
     ]
    }
   ],
   "source": [
    "# train the neural network\n",
    "H = model.fit(trainX, trainY, validation_data=(testX, testY),\n",
    "\tepochs=EPOCHS, batch_size=5)"
   ]
  },
  {
   "cell_type": "code",
   "execution_count": 70,
   "metadata": {},
   "outputs": [],
   "source": [
    "# H.history['val_acc'][-4]\n",
    "observation_list = [EPOCHS,INIT_LR, H.history['loss'][-4], H.history['val_loss'][-4], H.history['acc'][-4], H.history['val_acc'][-4]]\n",
    "observation_list\n",
    "with open('./observations/observation_model.txt', 'a') as file_out:\n",
    "    file_out.write(str(observation_list) + '\\n')"
   ]
  },
  {
   "cell_type": "markdown",
   "metadata": {
    "collapsed": true
   },
   "source": [
    "## CNN\n",
    "\n",
    "\n",
    "### Conv2D( number_of_filters, (size_of_filter) )"
   ]
  },
  {
   "cell_type": "code",
   "execution_count": 25,
   "metadata": {},
   "outputs": [
    {
     "data": {
      "text/plain": [
       "70"
      ]
     },
     "execution_count": 25,
     "metadata": {},
     "output_type": "execute_result"
    }
   ],
   "source": [
    "out = open('./observations/observation.csv' , 'w')\n",
    "headers = 'EPOCH,INITIAL LEARNING RATE,BATCH SIZE,LOSS,VAL_LOSS,ACCURACY,VAL_ACC\\n'\n",
    "out.write(headers)"
   ]
  },
  {
   "cell_type": "code",
   "execution_count": 1,
   "metadata": {},
   "outputs": [
    {
     "name": "stderr",
     "output_type": "stream",
     "text": [
      "Using TensorFlow backend.\n"
     ]
    }
   ],
   "source": [
    "# import the necessary packages\n",
    "from keras.models import Sequential\n",
    "from keras.layers.normalization import BatchNormalization\n",
    "from keras.layers.convolutional import Conv2D\n",
    "from keras.layers.convolutional import MaxPooling2D\n",
    "from keras.layers.core import Activation\n",
    "from keras.layers.core import Flatten\n",
    "from keras.layers.core import Dropout\n",
    "from keras.layers.core import Dense\n",
    "from keras import backend as K"
   ]
  },
  {
   "cell_type": "code",
   "execution_count": 2,
   "metadata": {},
   "outputs": [],
   "source": [
    "# class SymNet:\n",
    "# \t@staticmethod\n",
    "# \tdef build(width, height, depth, classes):\n",
    "# \t\t# initialize the model along with the input shape to be\n",
    "# \t\t# \"channels last\" and the channels dimension itself\n",
    "# \t\tmodel = Sequential()\n",
    "# \t\tinputShape = (height, width, depth)\n",
    "# \t\tchanDim = -1\n",
    "\n",
    "# \t\t# if we are using \"channels first\", update the input shape\n",
    "# \t\t# and channels dimension\n",
    "# \t\tif K.image_data_format() == \"channels_first\":\n",
    "# \t\t\tinputShape = (depth, height, width)\n",
    "# \t\t\tchanDim = 1\n",
    "        \n",
    "#         # CONV => RELU => POOL layer set\n",
    "# \t\tmodel.add(Conv2D(32, (3, 3), padding=\"same\",\n",
    "# \t\t\tinput_shape=inputShape))\n",
    "# \t\tmodel.add(Activation(\"relu\"))\n",
    "# \t\tmodel.add(BatchNormalization(axis=chanDim))\n",
    "# \t\tmodel.add(MaxPooling2D(pool_size=(2, 2)))\n",
    "# \t\tmodel.add(Dropout(0.25))\n",
    "        \n",
    "#         # (CONV => RELU) * 2 => POOL layer set\n",
    "# \t\tmodel.add(Conv2D(64, (3, 3), padding=\"same\"))\n",
    "# \t\tmodel.add(Activation(\"relu\"))\n",
    "# \t\tmodel.add(BatchNormalization(axis=chanDim))\n",
    "# \t\tmodel.add(Conv2D(64, (3, 3), padding=\"same\"))\n",
    "# \t\tmodel.add(Activation(\"relu\"))\n",
    "# \t\tmodel.add(BatchNormalization(axis=chanDim))\n",
    "# \t\tmodel.add(MaxPooling2D(pool_size=(2, 2)))\n",
    "# \t\tmodel.add(Dropout(0.25))    \n",
    "        \n",
    "#         # first (and only) set of FC => RELU layers\n",
    "# \t\tmodel.add(Flatten())\n",
    "# \t\tmodel.add(Dense(512))\n",
    "# \t\tmodel.add(Activation(\"relu\"))\n",
    "# \t\tmodel.add(BatchNormalization())\n",
    "# \t\tmodel.add(Dropout(0.5))\n",
    "        \n",
    "# \t\t# softmax classifier\n",
    "# \t\tmodel.add(Dense(5))\n",
    "# \t\tmodel.add(Activation(\"softmax\"))\n",
    "\n",
    "# \t\t# return the constructed network architecture\n",
    "# \t\treturn model\n",
    "\n",
    "    \n",
    "    \n",
    "    \n",
    "# model.add(MaxPooling2D(pool_size=(2,2)))\n",
    "# model.add(BatchNormalization())\n",
    "# model.add(Conv2D(64, kernel_size=(3,3), activation='relu'))\n",
    "# model.add(MaxPooling2D(pool_size=(2,2)))\n",
    "# model.add(BatchNormalization())\n",
    "# model.add(Conv2D(128, kernel_size=(3,3), activation='relu'))\n",
    "# model.add(MaxPooling2D(pool_size=(2,2)))\n",
    "# model.add(BatchNormalization())\n",
    "# model.add(Conv2D(128, kernel_size=(3,3), activation='relu'))\n",
    "# model.add(MaxPooling2D(pool_size=(2,2)))\n",
    "# model.add(BatchNormalization())\n",
    "# model.add(Conv2D(64, kernel_size=(3,3), activation='relu'))\n",
    "# model.add(MaxPooling2D(pool_size=(2,2)))\n",
    "# model.add(BatchNormalization())\n",
    "# model.add(Dropout(0.2))\n",
    "# model.add(Flatten())\n",
    "# model.add(Dense(256, activation='relu'))\n",
    "# model.add(Dropout(0.2))\n",
    "# model.add(Dense(64, activation='relu'))\n",
    "# model.add(Dense(2, activation = 'softmax'))"
   ]
  },
  {
   "cell_type": "code",
   "execution_count": 14,
   "metadata": {},
   "outputs": [],
   "source": [
    "class SymNet:\n",
    "\t@staticmethod\n",
    "\tdef build(width, height, depth, classes):\n",
    "\t\t# initialize the model along with the input shape to be\n",
    "\t\t# \"channels last\" and the channels dimension itself\n",
    "\t\tmodel = Sequential()\n",
    "\t\tinputShape = (height, width, depth)\n",
    "\t\tchanDim = -1\n",
    "\n",
    "\t\t# if we are using \"channels first\", update the input shape\n",
    "\t\t# and channels dimension\n",
    "\t\tif K.image_data_format() == \"channels_first\":\n",
    "\t\t\tinputShape = (depth, height, width)\n",
    "\t\t\tchanDim = 1\n",
    "        \n",
    "        # CONV => RELU => POOL layer set\n",
    "\t\tmodel.add(Conv2D(64, (3, 3), padding=\"same\",\n",
    "\t\t\tinput_shape=inputShape))\n",
    "\t\tmodel.add(Activation(\"relu\"))\n",
    "\t\tmodel.add(BatchNormalization(axis=chanDim))\n",
    "\t\tmodel.add(MaxPooling2D(pool_size=(2, 2)))\n",
    "\t\tmodel.add(Dropout(0.25))\n",
    "        \n",
    "        # (CONV => RELU) * 2 => POOL layer set\n",
    "\t\tmodel.add(Conv2D(128, (3, 3), padding=\"same\"))\n",
    "\t\tmodel.add(Activation(\"relu\"))\n",
    "\t\tmodel.add(BatchNormalization(axis=chanDim))\n",
    "\t\tmodel.add(Conv2D(64, (3, 3), padding=\"same\"))\n",
    "\t\tmodel.add(Activation(\"relu\"))\n",
    "\t\tmodel.add(BatchNormalization(axis=chanDim))\n",
    "\t\tmodel.add(MaxPooling2D(pool_size=(2, 2)))\n",
    "\t\tmodel.add(Dropout(0.25))    \n",
    "        \n",
    "\t\tmodel.add(Conv2D(128, (3, 3), padding=\"same\"))\n",
    "\t\tmodel.add(Activation(\"relu\"))\n",
    "\t\tmodel.add(BatchNormalization(axis=chanDim))\n",
    "\t\tmodel.add(Conv2D(64, (3, 3), padding=\"same\"))\n",
    "\t\tmodel.add(Activation(\"relu\"))\n",
    "\t\tmodel.add(BatchNormalization(axis=chanDim))\n",
    "\t\tmodel.add(MaxPooling2D(pool_size=(2, 2)))\n",
    "\t\tmodel.add(Dropout(0.25))    \n",
    "        \n",
    "        \n",
    "\t\tmodel.add(Conv2D(64, (3, 3), padding=\"same\"))\n",
    "\t\tmodel.add(Activation(\"relu\"))\n",
    "\t\tmodel.add(BatchNormalization(axis=chanDim))\n",
    "\t\tmodel.add(Conv2D(64, (3, 3), padding=\"same\"))\n",
    "\t\tmodel.add(Activation(\"relu\"))\n",
    "\t\tmodel.add(BatchNormalization(axis=chanDim))\n",
    "\t\tmodel.add(MaxPooling2D(pool_size=(2, 2)))\n",
    "\t\tmodel.add(Dropout(0.25))    \n",
    "        \n",
    "        # first (and only) set of FC => RELU layers\n",
    "\t\tmodel.add(Flatten())\n",
    "\t\tmodel.add(Dense(512))\n",
    "\t\tmodel.add(Activation(\"relu\"))\n",
    "\t\tmodel.add(BatchNormalization())\n",
    "\t\tmodel.add(Dropout(0.5))\n",
    "        \n",
    "\t\t# softmax classifier\n",
    "\t\tmodel.add(Dense(5))\n",
    "\t\tmodel.add(Activation(\"softmax\"))\n",
    "\n",
    "\t\t# return the constructed network architecture\n",
    "\t\treturn model\n"
   ]
  },
  {
   "cell_type": "markdown",
   "metadata": {},
   "source": [
    "#### Batch Normalization is used to normalize the activations of a given input volume before passing it to the next layer in the network. It has been proven to be very effective at reducing the number of epochs required to train a CNN as well as stabilizing training itself."
   ]
  },
  {
   "cell_type": "code",
   "execution_count": 15,
   "metadata": {},
   "outputs": [],
   "source": [
    "# set the matplotlib backend so figures can be saved in the background\n",
    "import matplotlib\n",
    "matplotlib.use(\"Agg\")\n",
    "\n",
    "# import the necessary packages\n",
    "from sklearn.preprocessing import LabelBinarizer\n",
    "from sklearn.model_selection import train_test_split\n",
    "from sklearn.metrics import classification_report\n",
    "from keras.preprocessing.image import ImageDataGenerator\n",
    "from keras.optimizers import SGD\n",
    "from imutils import paths\n",
    "import matplotlib.pyplot as plt\n",
    "import numpy as np\n",
    "import argparse\n",
    "import random\n",
    "import pickle\n",
    "import cv2\n",
    "import os\n",
    "\n",
    "symnet = SymNet()"
   ]
  },
  {
   "cell_type": "markdown",
   "metadata": {},
   "source": [
    "##  Load and preprocess our data:"
   ]
  },
  {
   "cell_type": "code",
   "execution_count": 16,
   "metadata": {},
   "outputs": [],
   "source": [
    "# initialize the data and labels\n",
    "data = []\n",
    "labels = []\n",
    "\n",
    "# grab the image paths and randomly shuffle them\n",
    "imagePaths = sorted(list(paths.list_images('images/')))\n",
    "random.seed(42)\n",
    "random.shuffle(imagePaths)\n",
    "\n",
    "# loop over the input images\n",
    "for imagePath in imagePaths:\n",
    "\t# load the image, resize it to 64x64 pixels (the required input\n",
    "\t# spatial dimensions of SmallVGGNet), and store the image in the\n",
    "\t# data list\n",
    "\timage = cv2.imread(imagePath)\n",
    "\timage = cv2.resize(image, (64, 64))\n",
    "\tdata.append(image)\n",
    "\n",
    "\t# extract the class label from the image path and update the\n",
    "\t# labels list\n",
    "\tlabel = imagePath.split(os.path.sep)[-2]\n",
    "\tlabels.append(label)\n",
    "\n",
    "# scale the raw pixel intensities to the range [0, 1]\n",
    "data = np.array(data, dtype=\"float\") / 255.0\n",
    "labels = np.array(labels)"
   ]
  },
  {
   "cell_type": "markdown",
   "metadata": {},
   "source": [
    "## Split Data and Binarize Labels"
   ]
  },
  {
   "cell_type": "code",
   "execution_count": 17,
   "metadata": {},
   "outputs": [],
   "source": [
    "# partition the data into training and testing splits using 75% of\n",
    "# the data for training and the remaining 25% for testing\n",
    "(trainX, testX, trainY, testY) = train_test_split(data,\n",
    "\tlabels, test_size=0.25, random_state=42)\n",
    "# print(trainY)\n",
    "# convert the labels from integers to vectors (for 2-class, binary\n",
    "# classification you should use Keras' to_categorical function\n",
    "# instead as the scikit-learn's LabelBinarizer will not return a\n",
    "# vector)\n",
    "lb = LabelBinarizer()\n",
    "trainY = lb.fit_transform(trainY)\n",
    "testY = lb.transform(testY)"
   ]
  },
  {
   "cell_type": "markdown",
   "metadata": {},
   "source": [
    "## Image Augmentation (Recall Lecture 4)"
   ]
  },
  {
   "cell_type": "code",
   "execution_count": 18,
   "metadata": {},
   "outputs": [],
   "source": [
    "# construct the image generator for data augmentation\n",
    "aug = ImageDataGenerator(rotation_range=30, width_shift_range=0.1,\n",
    "\theight_shift_range=0.1, shear_range=0.2, zoom_range=0.2,\n",
    "\thorizontal_flip=True, fill_mode=\"nearest\")\n",
    "\n",
    "# initialize our VGG-like Convolutional Neural Network (64,64,3)\n",
    "model = symnet.build(width=64, height=64, depth=3,\n",
    "\tclasses=len(lb.classes_))"
   ]
  },
  {
   "cell_type": "markdown",
   "metadata": {},
   "source": [
    "## Compile and Train Model\n",
    "\n",
    "##### https://ml-cheatsheet.readthedocs.io"
   ]
  },
  {
   "cell_type": "code",
   "execution_count": null,
   "metadata": {},
   "outputs": [
    {
     "name": "stdout",
     "output_type": "stream",
     "text": [
      "[INFO] training network...\n",
      "Epoch 1/75\n",
      "2/2 [==============================] - 8s 4s/step - loss: 2.5670 - acc: 0.2500 - val_loss: 1.8499 - val_acc: 0.3793\n",
      "Epoch 2/75\n",
      "2/2 [==============================] - 4s 2s/step - loss: 3.1629 - acc: 0.1702 - val_loss: 2.0107 - val_acc: 0.2414\n",
      "Epoch 3/75\n",
      "2/2 [==============================] - 4s 2s/step - loss: 2.9964 - acc: 0.1870 - val_loss: 2.0062 - val_acc: 0.2414\n",
      "Epoch 4/75\n",
      "2/2 [==============================] - 5s 2s/step - loss: 2.9510 - acc: 0.1406 - val_loss: 1.7992 - val_acc: 0.2759\n",
      "Epoch 5/75\n",
      "2/2 [==============================] - 4s 2s/step - loss: 2.5983 - acc: 0.1764 - val_loss: 2.1063 - val_acc: 0.2069\n",
      "Epoch 6/75\n",
      "2/2 [==============================] - 4s 2s/step - loss: 2.5859 - acc: 0.2163 - val_loss: 1.8313 - val_acc: 0.0345\n",
      "Epoch 7/75\n",
      "2/2 [==============================] - 5s 2s/step - loss: 2.4175 - acc: 0.2656 - val_loss: 2.0245 - val_acc: 0.1379\n",
      "Epoch 8/75\n",
      "2/2 [==============================] - 4s 2s/step - loss: 2.3887 - acc: 0.2837 - val_loss: 1.9316 - val_acc: 0.1379\n",
      "Epoch 9/75\n",
      "2/2 [==============================] - 4s 2s/step - loss: 2.5722 - acc: 0.1764 - val_loss: 2.0666 - val_acc: 0.2069\n",
      "Epoch 10/75\n",
      "2/2 [==============================] - 5s 2s/step - loss: 2.7259 - acc: 0.2188 - val_loss: 1.8067 - val_acc: 0.1724\n",
      "Epoch 11/75\n",
      "2/2 [==============================] - 4s 2s/step - loss: 2.8401 - acc: 0.2120 - val_loss: 1.7909 - val_acc: 0.1379\n",
      "Epoch 12/75\n",
      "2/2 [==============================] - 4s 2s/step - loss: 2.3890 - acc: 0.2563 - val_loss: 1.9238 - val_acc: 0.1724\n",
      "Epoch 13/75\n",
      "2/2 [==============================] - 5s 2s/step - loss: 2.7781 - acc: 0.2188 - val_loss: 1.9371 - val_acc: 0.1034\n",
      "Epoch 14/75\n",
      "2/2 [==============================] - 4s 2s/step - loss: 2.6401 - acc: 0.2731 - val_loss: 1.7836 - val_acc: 0.1379\n",
      "Epoch 15/75\n",
      "2/2 [==============================] - 4s 2s/step - loss: 2.3876 - acc: 0.2668 - val_loss: 1.8715 - val_acc: 0.1724\n",
      "Epoch 16/75\n",
      "2/2 [==============================] - 5s 2s/step - loss: 2.4313 - acc: 0.2656 - val_loss: 1.8986 - val_acc: 0.1379\n",
      "Epoch 17/75\n",
      "2/2 [==============================] - 3s 2s/step - loss: 2.6895 - acc: 0.2163 - val_loss: 1.9195 - val_acc: 0.1724\n",
      "Epoch 18/75\n",
      "2/2 [==============================] - 4s 2s/step - loss: 2.8135 - acc: 0.1764 - val_loss: 1.9108 - val_acc: 0.2069\n",
      "Epoch 19/75\n",
      "2/2 [==============================] - 5s 3s/step - loss: 3.0301 - acc: 0.1562 - val_loss: 1.9598 - val_acc: 0.2069\n",
      "Epoch 20/75\n",
      "2/2 [==============================] - 4s 2s/step - loss: 2.8472 - acc: 0.1072 - val_loss: 1.9039 - val_acc: 0.2414\n",
      "Epoch 21/75\n",
      "2/2 [==============================] - 4s 2s/step - loss: 2.4651 - acc: 0.2226 - val_loss: 1.7910 - val_acc: 0.1724\n",
      "Epoch 22/75\n",
      "2/2 [==============================] - 5s 2s/step - loss: 2.5216 - acc: 0.2031 - val_loss: 2.0266 - val_acc: 0.2069\n",
      "Epoch 23/75\n",
      "2/2 [==============================] - 3s 2s/step - loss: 3.1281 - acc: 0.1596 - val_loss: 2.0018 - val_acc: 0.0690\n",
      "Epoch 24/75\n",
      "2/2 [==============================] - 4s 2s/step - loss: 3.1570 - acc: 0.1702 - val_loss: 1.7032 - val_acc: 0.1379\n",
      "Epoch 25/75\n",
      "2/2 [==============================] - 5s 2s/step - loss: 2.4372 - acc: 0.3125 - val_loss: 1.7907 - val_acc: 0.2759\n",
      "Epoch 26/75\n",
      "2/2 [==============================] - 4s 2s/step - loss: 2.5447 - acc: 0.2394 - val_loss: 1.7449 - val_acc: 0.1724\n",
      "Epoch 27/75\n",
      "2/2 [==============================] - 4s 2s/step - loss: 2.6770 - acc: 0.1471 - val_loss: 1.6483 - val_acc: 0.2069\n",
      "Epoch 28/75\n",
      "2/2 [==============================] - 5s 2s/step - loss: 2.3261 - acc: 0.2344 - val_loss: 1.8081 - val_acc: 0.2069\n",
      "Epoch 29/75\n",
      "2/2 [==============================] - 4s 2s/step - loss: 2.4006 - acc: 0.2375 - val_loss: 1.7732 - val_acc: 0.1379\n",
      "Epoch 30/75\n",
      "2/2 [==============================] - 3s 2s/step - loss: 2.7842 - acc: 0.2163 - val_loss: 1.7307 - val_acc: 0.1724\n",
      "Epoch 31/75\n",
      "2/2 [==============================] - 5s 2s/step - loss: 2.5257 - acc: 0.1719 - val_loss: 1.7397 - val_acc: 0.3103\n",
      "Epoch 32/75\n",
      "2/2 [==============================] - 4s 2s/step - loss: 2.4212 - acc: 0.2101 - val_loss: 1.6200 - val_acc: 0.2759\n",
      "Epoch 33/75\n",
      "2/2 [==============================] - 3s 2s/step - loss: 2.4655 - acc: 0.2163 - val_loss: 1.5498 - val_acc: 0.3103\n",
      "Epoch 34/75\n",
      "2/2 [==============================] - 5s 2s/step - loss: 2.4797 - acc: 0.1875 - val_loss: 1.6491 - val_acc: 0.2414\n",
      "Epoch 35/75\n",
      "2/2 [==============================] - 4s 2s/step - loss: 2.9256 - acc: 0.2058 - val_loss: 1.7485 - val_acc: 0.2069\n",
      "Epoch 36/75\n",
      "2/2 [==============================] - 4s 2s/step - loss: 2.6394 - acc: 0.1933 - val_loss: 1.6267 - val_acc: 0.3793\n",
      "Epoch 37/75\n",
      "2/2 [==============================] - 5s 2s/step - loss: 2.3249 - acc: 0.2812 - val_loss: 1.7050 - val_acc: 0.2414\n",
      "Epoch 38/75\n",
      "2/2 [==============================] - 3s 2s/step - loss: 2.6462 - acc: 0.1553 - val_loss: 1.5561 - val_acc: 0.2759\n",
      "Epoch 39/75\n",
      "2/2 [==============================] - 4s 2s/step - loss: 2.1219 - acc: 0.2563 - val_loss: 1.6050 - val_acc: 0.3448\n",
      "Epoch 40/75\n",
      "2/2 [==============================] - 5s 2s/step - loss: 2.7009 - acc: 0.2656 - val_loss: 1.5361 - val_acc: 0.3448\n",
      "Epoch 41/75\n",
      "2/2 [==============================] - 4s 2s/step - loss: 2.5823 - acc: 0.2375 - val_loss: 1.5541 - val_acc: 0.2759\n",
      "Epoch 42/75\n",
      "2/2 [==============================] - 4s 2s/step - loss: 2.5759 - acc: 0.1870 - val_loss: 1.5112 - val_acc: 0.2759\n",
      "Epoch 43/75\n",
      "2/2 [==============================] - 5s 2s/step - loss: 2.4378 - acc: 0.2344 - val_loss: 1.6594 - val_acc: 0.2759\n",
      "Epoch 44/75\n",
      "2/2 [==============================] - 4s 2s/step - loss: 2.4614 - acc: 0.2101 - val_loss: 1.7816 - val_acc: 0.2759\n",
      "Epoch 45/75\n",
      "2/2 [==============================] - 3s 2s/step - loss: 2.2583 - acc: 0.2962 - val_loss: 1.6540 - val_acc: 0.3103\n",
      "Epoch 46/75\n",
      "2/2 [==============================] - 5s 2s/step - loss: 2.7709 - acc: 0.1562 - val_loss: 1.6794 - val_acc: 0.3103\n",
      "Epoch 47/75\n",
      "2/2 [==============================] - 3s 2s/step - loss: 2.5086 - acc: 0.1659 - val_loss: 1.7470 - val_acc: 0.3448\n",
      "Epoch 48/75\n",
      "2/2 [==============================] - 3s 2s/step - loss: 1.9318 - acc: 0.3865 - val_loss: 1.8952 - val_acc: 0.2069\n",
      "Epoch 49/75\n",
      "2/2 [==============================] - 5s 2s/step - loss: 2.5541 - acc: 0.2500 - val_loss: 1.9014 - val_acc: 0.1379\n",
      "Epoch 50/75\n",
      "2/2 [==============================] - 4s 2s/step - loss: 1.9779 - acc: 0.2606 - val_loss: 1.7478 - val_acc: 0.2414\n",
      "Epoch 51/75\n",
      "2/2 [==============================] - 3s 2s/step - loss: 2.4120 - acc: 0.2668 - val_loss: 1.6249 - val_acc: 0.2759\n",
      "Epoch 52/75\n",
      "2/2 [==============================] - 5s 2s/step - loss: 2.5594 - acc: 0.2188 - val_loss: 1.5276 - val_acc: 0.3448\n",
      "Epoch 53/75\n",
      "2/2 [==============================] - 4s 2s/step - loss: 2.3906 - acc: 0.2774 - val_loss: 1.4553 - val_acc: 0.2759\n",
      "Epoch 54/75\n"
     ]
    }
   ],
   "source": [
    "# initialize our initial learning rate, # of epochs to train for,\n",
    "# and batch size\n",
    "INIT_LR = 1e-3\n",
    "EPOCHS = 75\n",
    "BS = 24\n",
    "\n",
    "# initialize the model and optimizer (you'll want to use\n",
    "# binary_crossentropy for 2-class classification)\n",
    "print(\"[INFO] training network...\")\n",
    "opt = SGD(lr=INIT_LR, decay=INIT_LR / EPOCHS)\n",
    "model.compile(loss=\"categorical_crossentropy\", optimizer=opt,\n",
    "\tmetrics=[\"accuracy\"])\n",
    "\n",
    "# train the network\n",
    "H = model.fit_generator(aug.flow(trainX, trainY, batch_size=BS),\n",
    "\tvalidation_data=(testX, testY), steps_per_epoch=len(trainX) // BS,\n",
    "\tepochs=EPOCHS)"
   ]
  },
  {
   "cell_type": "markdown",
   "metadata": {},
   "source": [
    "## Save Observations"
   ]
  },
  {
   "cell_type": "code",
   "execution_count": 99,
   "metadata": {},
   "outputs": [],
   "source": [
    "# out = open('./observations/observation.csv' , 'a')\n",
    "observation_list = [EPOCHS,INIT_LR,BS, H.history['loss'][-1], H.history['val_loss'][-1], H.history['acc'][-1], H.history['val_acc'][-1]]\n",
    "observation_list\n",
    "with open('./observations/observation.csv', 'a') as file_out:\n",
    "    file_out.write(str(observation_list) + '\\n')\n",
    "# out.write(EPOCHS + ',' + INIT_LR + ',' + BS + ',' + H.history['loss'][-1] + ',' + H.history['val_loss'][-1] + ',' + H.history['acc'][-1] + ',' + H.history['val_acc'][-1] + '\\n')\n",
    "# out.write(str(observation_list))"
   ]
  },
  {
   "cell_type": "markdown",
   "metadata": {},
   "source": [
    "## Plot Results"
   ]
  },
  {
   "cell_type": "code",
   "execution_count": 21,
   "metadata": {},
   "outputs": [
    {
     "name": "stdout",
     "output_type": "stream",
     "text": [
      "[INFO] evaluating network...\n",
      "                     precision    recall  f1-score   support\n",
      "\n",
      "       akshay_kumar       0.25      0.50      0.33         4\n",
      "       katrina_kaif       0.43      0.75      0.55         4\n",
      "nawazuddin_siddiqui       1.00      0.44      0.62         9\n",
      "      ranbir_kapoor       0.50      0.20      0.29         5\n",
      "        zarine_khan       0.50      0.57      0.53         7\n",
      "\n",
      "          micro avg       0.48      0.48      0.48        29\n",
      "          macro avg       0.54      0.49      0.46        29\n",
      "       weighted avg       0.61      0.48      0.49        29\n",
      "\n",
      "[INFO] serializing network and label binarizer...\n"
     ]
    }
   ],
   "source": [
    "# evaluate the network\n",
    "print(\"[INFO] evaluating network...\")\n",
    "predictions = model.predict(testX, batch_size=32)\n",
    "print(classification_report(testY.argmax(axis=1),\n",
    "\tpredictions.argmax(axis=1), target_names=lb.classes_))\n",
    "\n",
    "# plot the training loss and accuracy\n",
    "N = np.arange(0, EPOCHS)\n",
    "plt.style.use(\"ggplot\")\n",
    "plt.figure()\n",
    "plt.plot(N, H.history[\"loss\"], label=\"train_loss\")\n",
    "plt.plot(N, H.history[\"val_loss\"], label=\"val_loss\")\n",
    "plt.plot(N, H.history[\"acc\"], label=\"train_acc\")\n",
    "plt.plot(N, H.history[\"val_acc\"], label=\"val_acc\")\n",
    "plt.title(\"Training Loss and Accuracy (SmallVGGNet)\")\n",
    "plt.xlabel(\"Epoch #\")\n",
    "plt.ylabel(\"Loss/Accuracy\")\n",
    "plt.legend()\n",
    "plt.savefig('symnet_results.png')\n",
    "\n",
    "# save the model and label binarizer to disk\n",
    "print(\"[INFO] serializing network and label binarizer...\")\n",
    "model.save('symnet.model')\n",
    "f = open('labels.bin', \"wb\")\n",
    "f.write(pickle.dumps(lb))\n",
    "f.close()"
   ]
  }
 ],
 "metadata": {
  "kernelspec": {
   "display_name": "Python 3",
   "language": "python",
   "name": "python3"
  },
  "language_info": {
   "codemirror_mode": {
    "name": "ipython",
    "version": 3
   },
   "file_extension": ".py",
   "mimetype": "text/x-python",
   "name": "python",
   "nbconvert_exporter": "python",
   "pygments_lexer": "ipython3",
   "version": "3.6.7"
  }
 },
 "nbformat": 4,
 "nbformat_minor": 2
}
