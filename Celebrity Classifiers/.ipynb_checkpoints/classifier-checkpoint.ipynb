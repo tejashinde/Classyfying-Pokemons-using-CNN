{
 "cells": [
  {
   "cell_type": "code",
   "execution_count": 5,
   "metadata": {},
   "outputs": [],
   "source": [
    "import matplotlib\n",
    "matplotlib.use(\"Agg\")\n",
    " \n",
    "# import the necessary packages\n",
    "from sklearn.preprocessing import LabelBinarizer\n",
    "from sklearn.model_selection import train_test_split\n",
    "from sklearn.metrics import classification_report\n",
    "from keras.models import Sequential\n",
    "from keras.layers.core import Dense\n",
    "from keras.optimizers import SGD\n",
    "from imutils import paths\n",
    "import matplotlib.pyplot as plt\n",
    "import numpy as np\n",
    "import cv2\n",
    "import argparse\n",
    "import random\n",
    "import os"
   ]
  },
  {
   "cell_type": "code",
   "execution_count": 6,
   "metadata": {},
   "outputs": [],
   "source": [
    "# initialize the data and labels\n",
    "data = []\n",
    "labels = []"
   ]
  },
  {
   "cell_type": "code",
   "execution_count": 7,
   "metadata": {},
   "outputs": [],
   "source": [
    "# grab the image paths and randomly shuffle them\n",
    "imagePaths = sorted(list(paths.list_images('images/')))\n",
    "random.seed(42)\n",
    "random.shuffle(imagePaths)"
   ]
  },
  {
   "cell_type": "markdown",
   "metadata": {},
   "source": [
    "## Resize, Flatten and append to data,label lists\n",
    "### Flattening: 32x32x3 = 3072"
   ]
  },
  {
   "cell_type": "code",
   "execution_count": 8,
   "metadata": {},
   "outputs": [],
   "source": [
    "for imagePath in imagePaths:\n",
    "\timage = cv2.imread(imagePath)\n",
    "    # flatten the image into 32x32x3=3072\n",
    "\timage = cv2.resize(image, (32, 32)).flatten()\n",
    "\tdata.append(image)\n",
    " \n",
    "\t# extract the class label from the image path and update the labels list\n",
    "\tlabel = imagePath.split(os.path.sep)[-2]\n",
    "\tlabels.append(label)"
   ]
  },
  {
   "cell_type": "code",
   "execution_count": 9,
   "metadata": {},
   "outputs": [
    {
     "data": {
      "text/plain": [
       "array([255, 255, 255, ...,  49,  83, 137], dtype=uint8)"
      ]
     },
     "execution_count": 9,
     "metadata": {},
     "output_type": "execute_result"
    }
   ],
   "source": [
    "data[:1][0]"
   ]
  },
  {
   "cell_type": "markdown",
   "metadata": {},
   "source": [
    "## Scale the raw pixel intensities to the range [0, 1] from [0, 255]"
   ]
  },
  {
   "cell_type": "code",
   "execution_count": 10,
   "metadata": {},
   "outputs": [],
   "source": [
    "# scale the raw pixel intensities to the range [0, 1]\n",
    "data = np.array(data, dtype=\"float\") / 255.0\n",
    "labels = np.array(labels)"
   ]
  },
  {
   "cell_type": "markdown",
   "metadata": {},
   "source": [
    "## Train, Test split of 75, 25"
   ]
  },
  {
   "cell_type": "code",
   "execution_count": 11,
   "metadata": {},
   "outputs": [],
   "source": [
    "# partition the data into training and testing splits using 75% of\n",
    "# the data for training and the remaining 25% for testing\n",
    "(trainX, testX, trainY, testY) = train_test_split(data,\n",
    "\tlabels, test_size=0.25, random_state=42)"
   ]
  },
  {
   "cell_type": "code",
   "execution_count": 12,
   "metadata": {},
   "outputs": [],
   "source": [
    "# convert the labels from integers to vectors (for 2-class, binary\n",
    "# classification you should use Keras' to_categorical function\n",
    "# instead as the scikit-learn's LabelBinarizer will not return a\n",
    "# vector)\n",
    "lb = LabelBinarizer()\n",
    "trainY = lb.fit_transform(trainY)\n",
    "testY = lb.transform(testY)"
   ]
  },
  {
   "cell_type": "code",
   "execution_count": 27,
   "metadata": {},
   "outputs": [],
   "source": [
    "# define the 3072-1024-256-3 architecture using Keras\n",
    "model = Sequential()\n",
    "model.add(Dense(1024, input_shape=(3072,), activation=\"sigmoid\"))\n",
    "model.add(Dense(512, activation=\"sigmoid\")) #Hidden 1\n",
    "# model.add(Dense(256, activation=\"sigmoid\")) #Hidden 2\n",
    "# model.add(Dense(148, activation=\"sigmoid\")) #Hidden 3\n",
    "model.add(Dense(len(lb.classes_), activation=\"softmax\")) #How many predictions do you want?"
   ]
  },
  {
   "cell_type": "code",
   "execution_count": 28,
   "metadata": {},
   "outputs": [
    {
     "name": "stdout",
     "output_type": "stream",
     "text": [
      "[INFO] training network...\n"
     ]
    }
   ],
   "source": [
    "# initialize our initial learning rate and # of epochs to train for\n",
    "INIT_LR = 0.01\n",
    "EPOCHS = 90\n",
    " \n",
    "# compile the model using SGD as our optimizer and categorical\n",
    "# cross-entropy loss (you'll want to use binary_crossentropy\n",
    "# for 2-class classification)\n",
    "print(\"[INFO] training network...\")\n",
    "opt = SGD(lr=INIT_LR)\n",
    "model.compile(loss=\"categorical_crossentropy\", optimizer=opt,\n",
    "\tmetrics=[\"accuracy\"])"
   ]
  },
  {
   "cell_type": "code",
   "execution_count": 29,
   "metadata": {},
   "outputs": [
    {
     "name": "stdout",
     "output_type": "stream",
     "text": [
      "Train on 84 samples, validate on 29 samples\n",
      "Epoch 1/90\n",
      "84/84 [==============================] - 0s 5ms/step - loss: 1.8387 - acc: 0.1310 - val_loss: 1.7180 - val_acc: 0.1034\n",
      "Epoch 2/90\n",
      "84/84 [==============================] - 0s 742us/step - loss: 1.6330 - acc: 0.2024 - val_loss: 1.6750 - val_acc: 0.1379\n",
      "Epoch 3/90\n",
      "84/84 [==============================] - 0s 844us/step - loss: 1.6128 - acc: 0.2024 - val_loss: 1.6965 - val_acc: 0.2069\n",
      "Epoch 4/90\n",
      "84/84 [==============================] - 0s 737us/step - loss: 1.6165 - acc: 0.1786 - val_loss: 1.6471 - val_acc: 0.1724\n",
      "Epoch 5/90\n",
      "84/84 [==============================] - 0s 728us/step - loss: 1.6204 - acc: 0.1786 - val_loss: 1.6573 - val_acc: 0.1724\n",
      "Epoch 6/90\n",
      "84/84 [==============================] - 0s 944us/step - loss: 1.6216 - acc: 0.2262 - val_loss: 1.6744 - val_acc: 0.1034\n",
      "Epoch 7/90\n",
      "84/84 [==============================] - 0s 847us/step - loss: 1.6093 - acc: 0.2143 - val_loss: 1.6723 - val_acc: 0.1034\n",
      "Epoch 8/90\n",
      "84/84 [==============================] - 0s 915us/step - loss: 1.6104 - acc: 0.2143 - val_loss: 1.6778 - val_acc: 0.1724\n",
      "Epoch 9/90\n",
      "84/84 [==============================] - 0s 837us/step - loss: 1.6016 - acc: 0.2262 - val_loss: 1.6683 - val_acc: 0.2069\n",
      "Epoch 10/90\n",
      "84/84 [==============================] - 0s 878us/step - loss: 1.6119 - acc: 0.2024 - val_loss: 1.6701 - val_acc: 0.1724\n",
      "Epoch 11/90\n",
      "84/84 [==============================] - 0s 866us/step - loss: 1.6063 - acc: 0.2619 - val_loss: 1.6798 - val_acc: 0.1379\n",
      "Epoch 12/90\n",
      "84/84 [==============================] - 0s 843us/step - loss: 1.6120 - acc: 0.2143 - val_loss: 1.6743 - val_acc: 0.1379\n",
      "Epoch 13/90\n",
      "84/84 [==============================] - 0s 835us/step - loss: 1.6099 - acc: 0.2143 - val_loss: 1.6741 - val_acc: 0.1379\n",
      "Epoch 14/90\n",
      "84/84 [==============================] - 0s 829us/step - loss: 1.6040 - acc: 0.2262 - val_loss: 1.6957 - val_acc: 0.1379\n",
      "Epoch 15/90\n",
      "84/84 [==============================] - 0s 821us/step - loss: 1.6007 - acc: 0.2738 - val_loss: 1.6351 - val_acc: 0.1379\n",
      "Epoch 16/90\n",
      "84/84 [==============================] - 0s 947us/step - loss: 1.6074 - acc: 0.2143 - val_loss: 1.6701 - val_acc: 0.1724\n",
      "Epoch 17/90\n",
      "84/84 [==============================] - 0s 946us/step - loss: 1.6064 - acc: 0.2619 - val_loss: 1.6260 - val_acc: 0.1379\n",
      "Epoch 18/90\n",
      "84/84 [==============================] - 0s 981us/step - loss: 1.6199 - acc: 0.1905 - val_loss: 1.6853 - val_acc: 0.1724\n",
      "Epoch 19/90\n",
      "84/84 [==============================] - 0s 934us/step - loss: 1.6063 - acc: 0.2262 - val_loss: 1.6568 - val_acc: 0.1724\n",
      "Epoch 20/90\n",
      "84/84 [==============================] - 0s 866us/step - loss: 1.6006 - acc: 0.2143 - val_loss: 1.6496 - val_acc: 0.1379\n",
      "Epoch 21/90\n",
      "84/84 [==============================] - 0s 844us/step - loss: 1.5930 - acc: 0.2143 - val_loss: 1.6773 - val_acc: 0.1379\n",
      "Epoch 22/90\n",
      "84/84 [==============================] - 0s 864us/step - loss: 1.6028 - acc: 0.1905 - val_loss: 1.6440 - val_acc: 0.1379\n",
      "Epoch 23/90\n",
      "84/84 [==============================] - 0s 883us/step - loss: 1.5975 - acc: 0.2024 - val_loss: 1.6570 - val_acc: 0.1379\n",
      "Epoch 24/90\n",
      "84/84 [==============================] - 0s 834us/step - loss: 1.5945 - acc: 0.2381 - val_loss: 1.6308 - val_acc: 0.1724\n",
      "Epoch 25/90\n",
      "84/84 [==============================] - 0s 914us/step - loss: 1.5998 - acc: 0.2024 - val_loss: 1.6458 - val_acc: 0.2414\n",
      "Epoch 26/90\n",
      "84/84 [==============================] - 0s 890us/step - loss: 1.6030 - acc: 0.2738 - val_loss: 1.5997 - val_acc: 0.2759\n",
      "Epoch 27/90\n",
      "84/84 [==============================] - 0s 981us/step - loss: 1.6099 - acc: 0.2500 - val_loss: 1.6205 - val_acc: 0.1724\n",
      "Epoch 28/90\n",
      "84/84 [==============================] - 0s 978us/step - loss: 1.5948 - acc: 0.2381 - val_loss: 1.6320 - val_acc: 0.2414\n",
      "Epoch 29/90\n",
      "84/84 [==============================] - 0s 965us/step - loss: 1.5955 - acc: 0.2381 - val_loss: 1.6600 - val_acc: 0.1724\n",
      "Epoch 30/90\n",
      "84/84 [==============================] - 0s 925us/step - loss: 1.5834 - acc: 0.2500 - val_loss: 1.6489 - val_acc: 0.1724\n",
      "Epoch 31/90\n",
      "84/84 [==============================] - 0s 849us/step - loss: 1.5907 - acc: 0.1786 - val_loss: 1.6540 - val_acc: 0.1724\n",
      "Epoch 32/90\n",
      "84/84 [==============================] - 0s 839us/step - loss: 1.5954 - acc: 0.2262 - val_loss: 1.6745 - val_acc: 0.1379\n",
      "Epoch 33/90\n",
      "84/84 [==============================] - 0s 893us/step - loss: 1.5871 - acc: 0.2500 - val_loss: 1.6649 - val_acc: 0.1724\n",
      "Epoch 34/90\n",
      "84/84 [==============================] - 0s 795us/step - loss: 1.5899 - acc: 0.2500 - val_loss: 1.6413 - val_acc: 0.1379\n",
      "Epoch 35/90\n",
      "84/84 [==============================] - 0s 847us/step - loss: 1.5815 - acc: 0.2619 - val_loss: 1.6636 - val_acc: 0.1724\n",
      "Epoch 36/90\n",
      "84/84 [==============================] - 0s 861us/step - loss: 1.5807 - acc: 0.2619 - val_loss: 1.6666 - val_acc: 0.1379\n",
      "Epoch 37/90\n",
      "84/84 [==============================] - 0s 890us/step - loss: 1.5781 - acc: 0.2381 - val_loss: 1.6531 - val_acc: 0.1724\n",
      "Epoch 38/90\n",
      "84/84 [==============================] - 0s 844us/step - loss: 1.5819 - acc: 0.2738 - val_loss: 1.6492 - val_acc: 0.1724\n",
      "Epoch 39/90\n",
      "84/84 [==============================] - 0s 854us/step - loss: 1.5780 - acc: 0.2738 - val_loss: 1.6579 - val_acc: 0.2069\n",
      "Epoch 40/90\n",
      "84/84 [==============================] - 0s 864us/step - loss: 1.5795 - acc: 0.2619 - val_loss: 1.6700 - val_acc: 0.1379\n",
      "Epoch 41/90\n",
      "84/84 [==============================] - 0s 896us/step - loss: 1.5863 - acc: 0.2738 - val_loss: 1.6626 - val_acc: 0.1724\n",
      "Epoch 42/90\n",
      "84/84 [==============================] - 0s 844us/step - loss: 1.5783 - acc: 0.2262 - val_loss: 1.6561 - val_acc: 0.1379\n",
      "Epoch 43/90\n",
      "84/84 [==============================] - 0s 843us/step - loss: 1.5829 - acc: 0.3214 - val_loss: 1.6107 - val_acc: 0.3103\n",
      "Epoch 44/90\n",
      "84/84 [==============================] - 0s 886us/step - loss: 1.5852 - acc: 0.3571 - val_loss: 1.6521 - val_acc: 0.1379\n",
      "Epoch 45/90\n",
      "84/84 [==============================] - 0s 862us/step - loss: 1.5887 - acc: 0.1429 - val_loss: 1.6278 - val_acc: 0.1379\n",
      "Epoch 46/90\n",
      "84/84 [==============================] - 0s 877us/step - loss: 1.5816 - acc: 0.2976 - val_loss: 1.6381 - val_acc: 0.1379\n",
      "Epoch 47/90\n",
      "84/84 [==============================] - 0s 878us/step - loss: 1.5760 - acc: 0.2143 - val_loss: 1.6564 - val_acc: 0.2069\n",
      "Epoch 48/90\n",
      "84/84 [==============================] - 0s 834us/step - loss: 1.5722 - acc: 0.1905 - val_loss: 1.6463 - val_acc: 0.1724\n",
      "Epoch 49/90\n",
      "84/84 [==============================] - 0s 855us/step - loss: 1.5711 - acc: 0.2738 - val_loss: 1.6273 - val_acc: 0.1724\n",
      "Epoch 50/90\n",
      "84/84 [==============================] - 0s 862us/step - loss: 1.5861 - acc: 0.2381 - val_loss: 1.6108 - val_acc: 0.1724\n",
      "Epoch 51/90\n",
      "84/84 [==============================] - 0s 884us/step - loss: 1.5777 - acc: 0.2262 - val_loss: 1.6508 - val_acc: 0.1724\n",
      "Epoch 52/90\n",
      "84/84 [==============================] - 0s 841us/step - loss: 1.5847 - acc: 0.3333 - val_loss: 1.6369 - val_acc: 0.1379\n",
      "Epoch 53/90\n",
      "84/84 [==============================] - 0s 873us/step - loss: 1.5674 - acc: 0.2738 - val_loss: 1.6576 - val_acc: 0.1379\n",
      "Epoch 54/90\n",
      "84/84 [==============================] - 0s 841us/step - loss: 1.5611 - acc: 0.2619 - val_loss: 1.6292 - val_acc: 0.2414\n",
      "Epoch 55/90\n",
      "84/84 [==============================] - 0s 781us/step - loss: 1.5667 - acc: 0.2500 - val_loss: 1.6536 - val_acc: 0.1379\n",
      "Epoch 56/90\n",
      "84/84 [==============================] - 0s 757us/step - loss: 1.5680 - acc: 0.3810 - val_loss: 1.6111 - val_acc: 0.3103\n",
      "Epoch 57/90\n",
      "84/84 [==============================] - 0s 750us/step - loss: 1.5722 - acc: 0.3214 - val_loss: 1.6264 - val_acc: 0.1724\n",
      "Epoch 58/90\n",
      "84/84 [==============================] - 0s 781us/step - loss: 1.5747 - acc: 0.2024 - val_loss: 1.6291 - val_acc: 0.2069\n",
      "Epoch 59/90\n",
      "84/84 [==============================] - 0s 780us/step - loss: 1.5683 - acc: 0.4167 - val_loss: 1.6387 - val_acc: 0.2069\n",
      "Epoch 60/90\n",
      "84/84 [==============================] - 0s 758us/step - loss: 1.5605 - acc: 0.2857 - val_loss: 1.6476 - val_acc: 0.1379\n",
      "Epoch 61/90\n",
      "84/84 [==============================] - 0s 799us/step - loss: 1.5778 - acc: 0.2619 - val_loss: 1.6489 - val_acc: 0.1724\n",
      "Epoch 62/90\n"
     ]
    },
    {
     "name": "stdout",
     "output_type": "stream",
     "text": [
      "84/84 [==============================] - 0s 762us/step - loss: 1.5642 - acc: 0.3810 - val_loss: 1.6121 - val_acc: 0.1379\n",
      "Epoch 63/90\n",
      "84/84 [==============================] - 0s 782us/step - loss: 1.5720 - acc: 0.2024 - val_loss: 1.6405 - val_acc: 0.1724\n",
      "Epoch 64/90\n",
      "84/84 [==============================] - 0s 764us/step - loss: 1.5631 - acc: 0.2619 - val_loss: 1.6332 - val_acc: 0.2414\n",
      "Epoch 65/90\n",
      "84/84 [==============================] - 0s 763us/step - loss: 1.5634 - acc: 0.3690 - val_loss: 1.6024 - val_acc: 0.2414\n",
      "Epoch 66/90\n",
      "84/84 [==============================] - 0s 798us/step - loss: 1.5507 - acc: 0.4167 - val_loss: 1.6176 - val_acc: 0.2759\n",
      "Epoch 67/90\n",
      "84/84 [==============================] - 0s 777us/step - loss: 1.5661 - acc: 0.3929 - val_loss: 1.6348 - val_acc: 0.1724\n",
      "Epoch 68/90\n",
      "84/84 [==============================] - 0s 810us/step - loss: 1.5550 - acc: 0.2619 - val_loss: 1.6097 - val_acc: 0.1379\n",
      "Epoch 69/90\n",
      "84/84 [==============================] - 0s 757us/step - loss: 1.5503 - acc: 0.4286 - val_loss: 1.6381 - val_acc: 0.1724\n",
      "Epoch 70/90\n",
      "84/84 [==============================] - 0s 795us/step - loss: 1.5518 - acc: 0.3810 - val_loss: 1.6340 - val_acc: 0.1379\n",
      "Epoch 71/90\n",
      "84/84 [==============================] - 0s 768us/step - loss: 1.5661 - acc: 0.2619 - val_loss: 1.6449 - val_acc: 0.1379\n",
      "Epoch 72/90\n",
      "84/84 [==============================] - 0s 777us/step - loss: 1.5532 - acc: 0.2857 - val_loss: 1.6327 - val_acc: 0.2414\n",
      "Epoch 73/90\n",
      "84/84 [==============================] - 0s 837us/step - loss: 1.5497 - acc: 0.3929 - val_loss: 1.6139 - val_acc: 0.2759\n",
      "Epoch 74/90\n",
      "84/84 [==============================] - 0s 763us/step - loss: 1.5538 - acc: 0.3810 - val_loss: 1.6007 - val_acc: 0.2414\n",
      "Epoch 75/90\n",
      "84/84 [==============================] - 0s 748us/step - loss: 1.5528 - acc: 0.3690 - val_loss: 1.6094 - val_acc: 0.2069\n",
      "Epoch 76/90\n",
      "84/84 [==============================] - 0s 764us/step - loss: 1.5560 - acc: 0.3571 - val_loss: 1.6012 - val_acc: 0.1724\n",
      "Epoch 77/90\n",
      "84/84 [==============================] - 0s 787us/step - loss: 1.5524 - acc: 0.3452 - val_loss: 1.6220 - val_acc: 0.1724\n",
      "Epoch 78/90\n",
      "84/84 [==============================] - 0s 847us/step - loss: 1.5445 - acc: 0.2738 - val_loss: 1.6154 - val_acc: 0.2414\n",
      "Epoch 79/90\n",
      "84/84 [==============================] - 0s 807us/step - loss: 1.5484 - acc: 0.2857 - val_loss: 1.6580 - val_acc: 0.1724\n",
      "Epoch 80/90\n",
      "84/84 [==============================] - 0s 751us/step - loss: 1.5442 - acc: 0.3214 - val_loss: 1.6622 - val_acc: 0.1379\n",
      "Epoch 81/90\n",
      "84/84 [==============================] - 0s 819us/step - loss: 1.5420 - acc: 0.2738 - val_loss: 1.6408 - val_acc: 0.1724\n",
      "Epoch 82/90\n",
      "84/84 [==============================] - 0s 774us/step - loss: 1.5499 - acc: 0.2619 - val_loss: 1.6316 - val_acc: 0.2414\n",
      "Epoch 83/90\n",
      "84/84 [==============================] - 0s 773us/step - loss: 1.5437 - acc: 0.3333 - val_loss: 1.6242 - val_acc: 0.2069\n",
      "Epoch 84/90\n",
      "84/84 [==============================] - 0s 789us/step - loss: 1.5367 - acc: 0.3690 - val_loss: 1.6229 - val_acc: 0.2069\n",
      "Epoch 85/90\n",
      "84/84 [==============================] - 0s 761us/step - loss: 1.5344 - acc: 0.3929 - val_loss: 1.6228 - val_acc: 0.2414\n",
      "Epoch 86/90\n",
      "84/84 [==============================] - 0s 796us/step - loss: 1.5494 - acc: 0.2738 - val_loss: 1.6322 - val_acc: 0.1379\n",
      "Epoch 87/90\n",
      "84/84 [==============================] - 0s 950us/step - loss: 1.5454 - acc: 0.3095 - val_loss: 1.5970 - val_acc: 0.2759\n",
      "Epoch 88/90\n",
      "84/84 [==============================] - 0s 950us/step - loss: 1.5285 - acc: 0.4643 - val_loss: 1.5999 - val_acc: 0.2759\n",
      "Epoch 89/90\n",
      "84/84 [==============================] - 0s 926us/step - loss: 1.5532 - acc: 0.3690 - val_loss: 1.6580 - val_acc: 0.1379\n",
      "Epoch 90/90\n",
      "84/84 [==============================] - 0s 914us/step - loss: 1.5396 - acc: 0.2976 - val_loss: 1.6469 - val_acc: 0.2069\n"
     ]
    }
   ],
   "source": [
    "# train the neural network\n",
    "H = model.fit(trainX, trainY, validation_data=(testX, testY),\n",
    "\tepochs=EPOCHS, batch_size=15)"
   ]
  },
  {
   "cell_type": "code",
   "execution_count": 16,
   "metadata": {},
   "outputs": [
    {
     "name": "stdout",
     "output_type": "stream",
     "text": [
      "[INFO] evaluating network...\n",
      "                     precision    recall  f1-score   support\n",
      "\n",
      "       akshay_kumar       0.40      0.50      0.44         4\n",
      "       katrina_kaif       0.00      0.00      0.00         4\n",
      "nawazuddin_siddiqui       0.00      0.00      0.00         9\n",
      "      ranbir_kapoor       0.00      0.00      0.00         5\n",
      "        zarine_khan       0.29      1.00      0.45         7\n",
      "\n",
      "          micro avg       0.31      0.31      0.31        29\n",
      "          macro avg       0.14      0.30      0.18        29\n",
      "       weighted avg       0.13      0.31      0.17        29\n",
      "\n"
     ]
    },
    {
     "name": "stderr",
     "output_type": "stream",
     "text": [
      "/home/m4j0rd1rty/.local/lib/python3.6/site-packages/sklearn/metrics/classification.py:1143: UndefinedMetricWarning: Precision and F-score are ill-defined and being set to 0.0 in labels with no predicted samples.\n",
      "  'precision', 'predicted', average, warn_for)\n"
     ]
    }
   ],
   "source": [
    "# evaluate the network\n",
    "print(\"[INFO] evaluating network...\")\n",
    "predictions = model.predict(testX, batch_size=32)\n",
    "print(classification_report(testY.argmax(axis=1),\n",
    "\tpredictions.argmax(axis=1), target_names=lb.classes_))\n",
    " \n",
    "# plot the training loss and accuracy\n",
    "N = np.arange(0, EPOCHS)\n",
    "plt.style.use(\"ggplot\")\n",
    "plt.figure()\n",
    "plt.plot(N, H.history[\"loss\"], label=\"train_loss\")\n",
    "plt.plot(N, H.history[\"val_loss\"], label=\"val_loss\")\n",
    "plt.plot(N, H.history[\"acc\"], label=\"train_acc\")\n",
    "plt.plot(N, H.history[\"val_acc\"], label=\"val_acc\")\n",
    "plt.title(\"Training Loss and Accuracy (Simple NN)\")\n",
    "plt.xlabel(\"Epoch #\")\n",
    "plt.ylabel(\"Loss/Accuracy\")\n",
    "plt.legend()\n",
    "plt.savefig('stats.png')"
   ]
  },
  {
   "cell_type": "code",
   "execution_count": null,
   "metadata": {
    "collapsed": true
   },
   "outputs": [],
   "source": []
  }
 ],
 "metadata": {
  "kernelspec": {
   "display_name": "Python 3",
   "language": "python",
   "name": "python3"
  },
  "language_info": {
   "codemirror_mode": {
    "name": "ipython",
    "version": 3
   },
   "file_extension": ".py",
   "mimetype": "text/x-python",
   "name": "python",
   "nbconvert_exporter": "python",
   "pygments_lexer": "ipython3",
   "version": "3.6.7"
  }
 },
 "nbformat": 4,
 "nbformat_minor": 2
}
