{
 "cells": [
  {
   "cell_type": "code",
   "execution_count": 1,
   "metadata": {},
   "outputs": [
    {
     "name": "stderr",
     "output_type": "stream",
     "text": [
      "Using TensorFlow backend.\n"
     ]
    }
   ],
   "source": [
    "import matplotlib\n",
    "matplotlib.use(\"Agg\")\n",
    " \n",
    "# import the necessary packages\n",
    "from sklearn.preprocessing import LabelBinarizer\n",
    "from sklearn.model_selection import train_test_split\n",
    "from sklearn.metrics import classification_report\n",
    "from keras.models import Sequential\n",
    "from keras.layers.core import Dense\n",
    "from keras.optimizers import SGD\n",
    "from imutils import paths\n",
    "import matplotlib.pyplot as plt\n",
    "import numpy as np\n",
    "import argparse\n",
    "import random\n",
    "import pickle\n",
    "import cv2\n",
    "from PIL import Image\n",
    "import os"
   ]
  },
  {
   "cell_type": "code",
   "execution_count": 2,
   "metadata": {},
   "outputs": [],
   "source": [
    "# initialize the data and labels\n",
    "data = []\n",
    "labels = []"
   ]
  },
  {
   "cell_type": "code",
   "execution_count": 3,
   "metadata": {},
   "outputs": [],
   "source": [
    "# grab the image paths and randomly shuffle them\n",
    "imagePaths = sorted(list(paths.list_images('images/')))\n",
    "random.seed(42)\n",
    "random.shuffle(imagePaths)"
   ]
  },
  {
   "cell_type": "code",
   "execution_count": 4,
   "metadata": {},
   "outputs": [
    {
     "data": {
      "text/plain": [
       "['images/katrina_kaif/268678a08a4542e78a35414cd6ee4263.jpg',\n",
       " 'images/akshay_kumar/c653ac1e91d94af1960e41e33f06ae82.jpeg',\n",
       " 'images/katrina_kaif/82eb7af9a60344c3a4d6bffde6761836.jpg',\n",
       " 'images/akshay_kumar/fdd6bc1075204110a18ab3adef7a945e.jpg',\n",
       " 'images/nawazuddin_siddiqui/186587c23f914fdba51e3ed41b33387f.jpg']"
      ]
     },
     "execution_count": 4,
     "metadata": {},
     "output_type": "execute_result"
    }
   ],
   "source": [
    "imagePaths[:5]"
   ]
  },
  {
   "cell_type": "markdown",
   "metadata": {},
   "source": [
    "## Resize, Flatten and append to data,label lists\n",
    "### Flattening: 32x32x3 = 3072"
   ]
  },
  {
   "cell_type": "code",
   "execution_count": 5,
   "metadata": {},
   "outputs": [],
   "source": [
    "for imagePath in imagePaths:\n",
    "\timage = cv2.imread(imagePath)\n",
    "    # flatten the image into 32x32x3=3072\n",
    "\timage = cv2.resize(image, (32, 32)).flatten()\n",
    "\tdata.append(image)\n",
    " \n",
    "\t# extract the class label from the image path and update the labels list\n",
    "\tlabel = imagePath.split(os.path.sep)[-2]\n",
    "\tlabels.append(label)"
   ]
  },
  {
   "cell_type": "code",
   "execution_count": 6,
   "metadata": {},
   "outputs": [
    {
     "data": {
      "text/plain": [
       "array([255, 255, 255, ...,  49,  83, 137], dtype=uint8)"
      ]
     },
     "execution_count": 6,
     "metadata": {},
     "output_type": "execute_result"
    }
   ],
   "source": [
    "data[:1][0]"
   ]
  },
  {
   "cell_type": "markdown",
   "metadata": {},
   "source": [
    "## Scale the raw pixel intensities to the range [0, 1] from [0, 255]"
   ]
  },
  {
   "cell_type": "code",
   "execution_count": 7,
   "metadata": {},
   "outputs": [],
   "source": [
    "# scale the raw pixel intensities to the range [0, 1]\n",
    "data = np.array(data, dtype=\"float\") / 255.0\n",
    "labels = np.array(labels)"
   ]
  },
  {
   "cell_type": "markdown",
   "metadata": {},
   "source": [
    "## Train, Test split of 75, 25"
   ]
  },
  {
   "cell_type": "code",
   "execution_count": 19,
   "metadata": {},
   "outputs": [],
   "source": [
    "# partition the data into training and testing splits using 75% of\n",
    "# the data for training and the remaining 25% for testing\n",
    "(trainX, testX, trainY, testY) = train_test_split(data,\n",
    "\tlabels, test_size=0.25, random_state=42)"
   ]
  },
  {
   "cell_type": "code",
   "execution_count": 20,
   "metadata": {},
   "outputs": [],
   "source": [
    "# convert the labels from integers to vectors (for 2-class, binary\n",
    "# classification you should use Keras' to_categorical function\n",
    "# instead as the scikit-learn's LabelBinarizer will not return a\n",
    "# vector)\n",
    "lb = LabelBinarizer()\n",
    "trainY = lb.fit_transform(trainY)\n",
    "testY = lb.transform(testY)"
   ]
  },
  {
   "cell_type": "code",
   "execution_count": 32,
   "metadata": {},
   "outputs": [],
   "source": [
    "# define the 3072-1024-256-3 architecture using Keras\n",
    "model = Sequential()\n",
    "model.add(Dense(1024, input_shape=(3072,), activation=\"sigmoid\"))\n",
    "model.add(Dense(512, activation=\"sigmoid\")) #Hidden 1\n",
    "model.add(Dense(256, activation=\"sigmoid\")) #Hidden 2\n",
    "# model.add(Dense(128, activation=\"sigmoid\")) #Hidden 21\n",
    "model.add(Dense(5, activation=\"softmax\")) #How many predictions do you want?"
   ]
  },
  {
   "cell_type": "code",
   "execution_count": 37,
   "metadata": {},
   "outputs": [
    {
     "name": "stdout",
     "output_type": "stream",
     "text": [
      "[INFO] training network...\n"
     ]
    }
   ],
   "source": [
    "# initialize our initial learning rate and # of epochs to train for\n",
    "INIT_LR = 0.01\n",
    "EPOCHS = 70\n",
    "# compile the model using SGD as our optimizer and categorical\n",
    "# cross-entropy loss (you'll want to use binary_crossentropy\n",
    "# for 2-class classification)\n",
    "print(\"[INFO] training network...\")\n",
    "opt = SGD(lr=INIT_LR)\n",
    "model.compile(loss=\"categorical_crossentropy\", optimizer=opt,\n",
    "\tmetrics=[\"accuracy\"])"
   ]
  },
  {
   "cell_type": "code",
   "execution_count": 38,
   "metadata": {},
   "outputs": [
    {
     "name": "stdout",
     "output_type": "stream",
     "text": [
      "Train on 84 samples, validate on 29 samples\n",
      "Epoch 1/70\n",
      "84/84 [==============================] - 1s 6ms/step - loss: 1.6147 - acc: 0.2262 - val_loss: 1.6624 - val_acc: 0.1724\n",
      "Epoch 2/70\n",
      "84/84 [==============================] - 0s 2ms/step - loss: 1.6155 - acc: 0.2024 - val_loss: 1.6659 - val_acc: 0.1724\n",
      "Epoch 3/70\n",
      "84/84 [==============================] - 0s 3ms/step - loss: 1.6192 - acc: 0.2024 - val_loss: 1.6309 - val_acc: 0.1724\n",
      "Epoch 4/70\n",
      "84/84 [==============================] - 0s 3ms/step - loss: 1.6163 - acc: 0.2262 - val_loss: 1.6654 - val_acc: 0.1379\n",
      "Epoch 5/70\n",
      "84/84 [==============================] - 0s 3ms/step - loss: 1.6200 - acc: 0.2024 - val_loss: 1.6344 - val_acc: 0.1379\n",
      "Epoch 6/70\n",
      "84/84 [==============================] - 0s 3ms/step - loss: 1.6220 - acc: 0.1786 - val_loss: 1.6496 - val_acc: 0.1379\n",
      "Epoch 7/70\n",
      "84/84 [==============================] - 0s 3ms/step - loss: 1.6143 - acc: 0.2143 - val_loss: 1.6341 - val_acc: 0.1724\n",
      "Epoch 8/70\n",
      "84/84 [==============================] - 0s 3ms/step - loss: 1.6120 - acc: 0.2262 - val_loss: 1.6737 - val_acc: 0.1379\n",
      "Epoch 9/70\n",
      "84/84 [==============================] - 0s 3ms/step - loss: 1.6170 - acc: 0.2024 - val_loss: 1.6748 - val_acc: 0.1379\n",
      "Epoch 10/70\n",
      "84/84 [==============================] - 0s 3ms/step - loss: 1.6143 - acc: 0.1905 - val_loss: 1.6390 - val_acc: 0.1724\n",
      "Epoch 11/70\n",
      "84/84 [==============================] - 0s 3ms/step - loss: 1.6150 - acc: 0.2024 - val_loss: 1.6425 - val_acc: 0.1379\n",
      "Epoch 12/70\n",
      "84/84 [==============================] - 0s 2ms/step - loss: 1.6115 - acc: 0.1667 - val_loss: 1.6326 - val_acc: 0.1379\n",
      "Epoch 13/70\n",
      "84/84 [==============================] - 0s 3ms/step - loss: 1.6174 - acc: 0.1786 - val_loss: 1.6366 - val_acc: 0.1379\n",
      "Epoch 14/70\n",
      "84/84 [==============================] - 0s 3ms/step - loss: 1.6174 - acc: 0.2143 - val_loss: 1.6440 - val_acc: 0.1379\n",
      "Epoch 15/70\n",
      "84/84 [==============================] - 0s 3ms/step - loss: 1.6141 - acc: 0.1905 - val_loss: 1.6760 - val_acc: 0.1379\n",
      "Epoch 16/70\n",
      "84/84 [==============================] - 0s 3ms/step - loss: 1.6175 - acc: 0.1786 - val_loss: 1.6420 - val_acc: 0.1724\n",
      "Epoch 17/70\n",
      "84/84 [==============================] - 0s 3ms/step - loss: 1.6167 - acc: 0.1190 - val_loss: 1.6359 - val_acc: 0.1379\n",
      "Epoch 18/70\n",
      "84/84 [==============================] - 0s 3ms/step - loss: 1.6163 - acc: 0.1429 - val_loss: 1.6524 - val_acc: 0.1379\n",
      "Epoch 19/70\n",
      "84/84 [==============================] - 0s 3ms/step - loss: 1.6137 - acc: 0.1905 - val_loss: 1.6716 - val_acc: 0.2414\n",
      "Epoch 20/70\n",
      "84/84 [==============================] - 0s 3ms/step - loss: 1.6139 - acc: 0.1786 - val_loss: 1.6633 - val_acc: 0.1724\n",
      "Epoch 21/70\n",
      "84/84 [==============================] - 0s 3ms/step - loss: 1.6187 - acc: 0.2500 - val_loss: 1.6640 - val_acc: 0.1724\n",
      "Epoch 22/70\n",
      "84/84 [==============================] - 0s 3ms/step - loss: 1.6168 - acc: 0.2262 - val_loss: 1.6795 - val_acc: 0.1724\n",
      "Epoch 23/70\n",
      "84/84 [==============================] - 0s 3ms/step - loss: 1.6170 - acc: 0.1786 - val_loss: 1.6627 - val_acc: 0.1724\n",
      "Epoch 24/70\n",
      "84/84 [==============================] - 0s 3ms/step - loss: 1.6196 - acc: 0.2024 - val_loss: 1.6757 - val_acc: 0.1379\n",
      "Epoch 25/70\n",
      "84/84 [==============================] - 0s 3ms/step - loss: 1.6107 - acc: 0.2500 - val_loss: 1.6447 - val_acc: 0.1724\n",
      "Epoch 26/70\n",
      "84/84 [==============================] - 0s 3ms/step - loss: 1.6092 - acc: 0.1905 - val_loss: 1.6694 - val_acc: 0.1724\n",
      "Epoch 27/70\n",
      "84/84 [==============================] - 0s 3ms/step - loss: 1.6117 - acc: 0.2143 - val_loss: 1.6669 - val_acc: 0.1724\n",
      "Epoch 28/70\n",
      "84/84 [==============================] - 0s 3ms/step - loss: 1.6189 - acc: 0.1905 - val_loss: 1.6983 - val_acc: 0.1379\n",
      "Epoch 29/70\n",
      "84/84 [==============================] - 0s 3ms/step - loss: 1.6206 - acc: 0.2024 - val_loss: 1.6771 - val_acc: 0.1379\n",
      "Epoch 30/70\n",
      "84/84 [==============================] - 0s 3ms/step - loss: 1.6184 - acc: 0.1905 - val_loss: 1.6744 - val_acc: 0.1379\n",
      "Epoch 31/70\n",
      "84/84 [==============================] - 0s 3ms/step - loss: 1.6149 - acc: 0.1905 - val_loss: 1.6762 - val_acc: 0.1379\n",
      "Epoch 32/70\n",
      "84/84 [==============================] - 0s 3ms/step - loss: 1.6124 - acc: 0.1905 - val_loss: 1.6710 - val_acc: 0.1379\n",
      "Epoch 33/70\n",
      "84/84 [==============================] - 0s 3ms/step - loss: 1.6146 - acc: 0.1905 - val_loss: 1.6687 - val_acc: 0.1724\n",
      "Epoch 34/70\n",
      "84/84 [==============================] - 0s 3ms/step - loss: 1.6126 - acc: 0.2262 - val_loss: 1.6471 - val_acc: 0.1724\n",
      "Epoch 35/70\n",
      "84/84 [==============================] - 0s 3ms/step - loss: 1.6201 - acc: 0.1786 - val_loss: 1.6441 - val_acc: 0.1724\n",
      "Epoch 36/70\n",
      "84/84 [==============================] - 0s 3ms/step - loss: 1.6115 - acc: 0.2024 - val_loss: 1.6562 - val_acc: 0.1379\n",
      "Epoch 37/70\n",
      "84/84 [==============================] - 0s 3ms/step - loss: 1.6179 - acc: 0.1071 - val_loss: 1.6621 - val_acc: 0.1379\n",
      "Epoch 38/70\n",
      "84/84 [==============================] - 0s 2ms/step - loss: 1.6242 - acc: 0.2143 - val_loss: 1.6466 - val_acc: 0.1379\n",
      "Epoch 39/70\n",
      "84/84 [==============================] - 0s 3ms/step - loss: 1.6141 - acc: 0.1667 - val_loss: 1.6628 - val_acc: 0.1724\n",
      "Epoch 40/70\n",
      "84/84 [==============================] - 0s 3ms/step - loss: 1.6188 - acc: 0.1429 - val_loss: 1.6907 - val_acc: 0.1379\n",
      "Epoch 41/70\n",
      "84/84 [==============================] - 0s 3ms/step - loss: 1.6186 - acc: 0.1429 - val_loss: 1.6717 - val_acc: 0.1379\n",
      "Epoch 42/70\n",
      "84/84 [==============================] - 0s 3ms/step - loss: 1.6176 - acc: 0.2024 - val_loss: 1.6499 - val_acc: 0.1379\n",
      "Epoch 43/70\n",
      "84/84 [==============================] - 0s 3ms/step - loss: 1.6177 - acc: 0.1905 - val_loss: 1.6745 - val_acc: 0.1724\n",
      "Epoch 44/70\n",
      "84/84 [==============================] - 0s 3ms/step - loss: 1.6130 - acc: 0.2143 - val_loss: 1.6768 - val_acc: 0.1724\n",
      "Epoch 45/70\n",
      "84/84 [==============================] - 0s 3ms/step - loss: 1.6078 - acc: 0.2143 - val_loss: 1.6468 - val_acc: 0.1724\n",
      "Epoch 46/70\n",
      "84/84 [==============================] - 0s 2ms/step - loss: 1.6155 - acc: 0.1905 - val_loss: 1.6497 - val_acc: 0.2414\n",
      "Epoch 47/70\n",
      "84/84 [==============================] - 0s 3ms/step - loss: 1.6151 - acc: 0.1905 - val_loss: 1.6759 - val_acc: 0.1724\n",
      "Epoch 48/70\n",
      "84/84 [==============================] - 0s 3ms/step - loss: 1.6117 - acc: 0.1310 - val_loss: 1.6722 - val_acc: 0.1379\n",
      "Epoch 49/70\n",
      "84/84 [==============================] - 0s 3ms/step - loss: 1.6139 - acc: 0.2143 - val_loss: 1.6592 - val_acc: 0.1724\n",
      "Epoch 50/70\n",
      "84/84 [==============================] - 0s 3ms/step - loss: 1.6189 - acc: 0.1905 - val_loss: 1.6236 - val_acc: 0.1724\n",
      "Epoch 51/70\n",
      "84/84 [==============================] - 0s 3ms/step - loss: 1.6117 - acc: 0.1786 - val_loss: 1.6392 - val_acc: 0.2414\n",
      "Epoch 52/70\n",
      "84/84 [==============================] - 0s 2ms/step - loss: 1.6150 - acc: 0.1548 - val_loss: 1.6384 - val_acc: 0.1379\n",
      "Epoch 53/70\n",
      "84/84 [==============================] - 0s 3ms/step - loss: 1.6156 - acc: 0.2024 - val_loss: 1.6600 - val_acc: 0.1379\n",
      "Epoch 54/70\n",
      "84/84 [==============================] - 0s 2ms/step - loss: 1.6168 - acc: 0.2262 - val_loss: 1.6427 - val_acc: 0.1724\n",
      "Epoch 55/70\n",
      "84/84 [==============================] - 0s 2ms/step - loss: 1.6151 - acc: 0.2143 - val_loss: 1.6904 - val_acc: 0.1379\n",
      "Epoch 56/70\n",
      "84/84 [==============================] - 0s 2ms/step - loss: 1.6154 - acc: 0.1786 - val_loss: 1.6766 - val_acc: 0.1379\n",
      "Epoch 57/70\n",
      "84/84 [==============================] - 0s 3ms/step - loss: 1.6141 - acc: 0.1905 - val_loss: 1.7101 - val_acc: 0.1379\n",
      "Epoch 58/70\n",
      "84/84 [==============================] - 0s 2ms/step - loss: 1.6199 - acc: 0.2143 - val_loss: 1.6575 - val_acc: 0.1724\n",
      "Epoch 59/70\n",
      "84/84 [==============================] - 0s 2ms/step - loss: 1.6128 - acc: 0.2381 - val_loss: 1.6795 - val_acc: 0.1379\n",
      "Epoch 60/70\n",
      "84/84 [==============================] - 0s 2ms/step - loss: 1.6108 - acc: 0.1905 - val_loss: 1.6744 - val_acc: 0.1724\n",
      "Epoch 61/70\n",
      "84/84 [==============================] - 0s 2ms/step - loss: 1.6157 - acc: 0.2143 - val_loss: 1.6406 - val_acc: 0.1724\n",
      "Epoch 62/70\n",
      "84/84 [==============================] - 0s 2ms/step - loss: 1.6202 - acc: 0.1905 - val_loss: 1.6353 - val_acc: 0.2414\n",
      "Epoch 63/70\n"
     ]
    },
    {
     "name": "stdout",
     "output_type": "stream",
     "text": [
      "84/84 [==============================] - 0s 2ms/step - loss: 1.6181 - acc: 0.1905 - val_loss: 1.6581 - val_acc: 0.1379\n",
      "Epoch 64/70\n",
      "84/84 [==============================] - 0s 2ms/step - loss: 1.6175 - acc: 0.1667 - val_loss: 1.6583 - val_acc: 0.2414\n",
      "Epoch 65/70\n",
      "84/84 [==============================] - 0s 2ms/step - loss: 1.6152 - acc: 0.2143 - val_loss: 1.6796 - val_acc: 0.1379\n",
      "Epoch 66/70\n",
      "84/84 [==============================] - 0s 2ms/step - loss: 1.6185 - acc: 0.1190 - val_loss: 1.6759 - val_acc: 0.1724\n",
      "Epoch 67/70\n",
      "84/84 [==============================] - 0s 2ms/step - loss: 1.6239 - acc: 0.1548 - val_loss: 1.6413 - val_acc: 0.2414\n",
      "Epoch 68/70\n",
      "84/84 [==============================] - 0s 2ms/step - loss: 1.6165 - acc: 0.1548 - val_loss: 1.6565 - val_acc: 0.1724\n",
      "Epoch 69/70\n",
      "84/84 [==============================] - 0s 2ms/step - loss: 1.6246 - acc: 0.1905 - val_loss: 1.6780 - val_acc: 0.1724\n",
      "Epoch 70/70\n",
      "84/84 [==============================] - 0s 2ms/step - loss: 1.6115 - acc: 0.2143 - val_loss: 1.6471 - val_acc: 0.1724\n"
     ]
    }
   ],
   "source": [
    "# train the neural network\n",
    "H = model.fit(trainX, trainY, validation_data=(testX, testY),\n",
    "\tepochs=EPOCHS, batch_size=9)"
   ]
  },
  {
   "cell_type": "code",
   "execution_count": 36,
   "metadata": {},
   "outputs": [],
   "source": [
    "observation_list = [EPOCHS,INIT_LR, H.history['loss'][-1], H.history['val_loss'][-1], H.history['acc'][-1], H.history['val_acc'][-1]]\n",
    "observation_list\n",
    "with open('./observations/observation_model.txt', 'a') as file_out:\n",
    "    file_out.write(str(observation_list) + '\\n')"
   ]
  },
  {
   "cell_type": "markdown",
   "metadata": {
    "collapsed": true
   },
   "source": [
    "## CNN\n",
    "\n",
    "\n",
    "### Conv2D( number_of_filters, (size_of_filter) )"
   ]
  },
  {
   "cell_type": "code",
   "execution_count": 25,
   "metadata": {},
   "outputs": [
    {
     "data": {
      "text/plain": [
       "70"
      ]
     },
     "execution_count": 25,
     "metadata": {},
     "output_type": "execute_result"
    }
   ],
   "source": [
    "out = open('./observations/observation.csv' , 'w')\n",
    "headers = 'EPOCH,INITIAL LEARNING RATE,BATCH SIZE,LOSS,VAL_LOSS,ACCURACY,VAL_ACC\\n'\n",
    "out.write(headers)"
   ]
  },
  {
   "cell_type": "code",
   "execution_count": 16,
   "metadata": {},
   "outputs": [],
   "source": [
    "# import the necessary packages\n",
    "from keras.models import Sequential\n",
    "from keras.layers.normalization import BatchNormalization\n",
    "from keras.layers.convolutional import Conv2D\n",
    "from keras.layers.convolutional import MaxPooling2D\n",
    "from keras.layers.core import Activation\n",
    "from keras.layers.core import Flatten\n",
    "from keras.layers.core import Dropout\n",
    "from keras.layers.core import Dense\n",
    "from keras import backend as K"
   ]
  },
  {
   "cell_type": "code",
   "execution_count": 92,
   "metadata": {},
   "outputs": [],
   "source": [
    "class SymNet:\n",
    "\t@staticmethod\n",
    "\tdef build(width, height, depth, classes):\n",
    "\t\t# initialize the model along with the input shape to be\n",
    "\t\t# \"channels last\" and the channels dimension itself\n",
    "\t\tmodel = Sequential()\n",
    "\t\tinputShape = (height, width, depth)\n",
    "\t\tchanDim = -1\n",
    "\n",
    "\t\t# if we are using \"channels first\", update the input shape\n",
    "\t\t# and channels dimension\n",
    "\t\tif K.image_data_format() == \"channels_first\":\n",
    "\t\t\tinputShape = (depth, height, width)\n",
    "\t\t\tchanDim = 1\n",
    "        \n",
    "        # CONV => RELU => POOL layer set\n",
    "\t\tmodel.add(Conv2D(32, (3, 3), padding=\"same\",\n",
    "\t\t\tinput_shape=inputShape))\n",
    "\t\tmodel.add(Activation(\"relu\"))\n",
    "\t\tmodel.add(BatchNormalization(axis=chanDim))\n",
    "\t\tmodel.add(MaxPooling2D(pool_size=(2, 2)))\n",
    "\t\tmodel.add(Dropout(0.25))\n",
    "        \n",
    "        # (CONV => RELU) * 2 => POOL layer set\n",
    "\t\tmodel.add(Conv2D(64, (3, 3), padding=\"same\"))\n",
    "\t\tmodel.add(Activation(\"relu\"))\n",
    "\t\tmodel.add(BatchNormalization(axis=chanDim))\n",
    "\t\tmodel.add(Conv2D(64, (3, 3), padding=\"same\"))\n",
    "\t\tmodel.add(Activation(\"relu\"))\n",
    "\t\tmodel.add(BatchNormalization(axis=chanDim))\n",
    "\t\tmodel.add(MaxPooling2D(pool_size=(2, 2)))\n",
    "\t\tmodel.add(Dropout(0.25))    \n",
    "        \n",
    "        # first (and only) set of FC => RELU layers\n",
    "\t\tmodel.add(Flatten())\n",
    "\t\tmodel.add(Dense(512))\n",
    "\t\tmodel.add(Activation(\"relu\"))\n",
    "\t\tmodel.add(BatchNormalization())\n",
    "\t\tmodel.add(Dropout(0.5))\n",
    "        \n",
    "\t\t# softmax classifier\n",
    "\t\tmodel.add(Dense(5))\n",
    "\t\tmodel.add(Activation(\"softmax\"))\n",
    "\n",
    "\t\t# return the constructed network architecture\n",
    "\t\treturn model"
   ]
  },
  {
   "cell_type": "markdown",
   "metadata": {},
   "source": [
    "#### Batch Normalization is used to normalize the activations of a given input volume before passing it to the next layer in the network. It has been proven to be very effective at reducing the number of epochs required to train a CNN as well as stabilizing training itself."
   ]
  },
  {
   "cell_type": "code",
   "execution_count": 93,
   "metadata": {},
   "outputs": [],
   "source": [
    "# set the matplotlib backend so figures can be saved in the background\n",
    "import matplotlib\n",
    "matplotlib.use(\"Agg\")\n",
    "\n",
    "# import the necessary packages\n",
    "from sklearn.preprocessing import LabelBinarizer\n",
    "from sklearn.model_selection import train_test_split\n",
    "from sklearn.metrics import classification_report\n",
    "from keras.preprocessing.image import ImageDataGenerator\n",
    "from keras.optimizers import SGD\n",
    "from imutils import paths\n",
    "import matplotlib.pyplot as plt\n",
    "import numpy as np\n",
    "import argparse\n",
    "import random\n",
    "import pickle\n",
    "import cv2\n",
    "import os\n",
    "\n",
    "symnet = SymNet()"
   ]
  },
  {
   "cell_type": "markdown",
   "metadata": {},
   "source": [
    "##  Load and preprocess our data:"
   ]
  },
  {
   "cell_type": "code",
   "execution_count": 94,
   "metadata": {},
   "outputs": [],
   "source": [
    "# initialize the data and labels\n",
    "data = []\n",
    "labels = []\n",
    "\n",
    "# grab the image paths and randomly shuffle them\n",
    "imagePaths = sorted(list(paths.list_images('images/')))\n",
    "random.seed(42)\n",
    "random.shuffle(imagePaths)\n",
    "\n",
    "# loop over the input images\n",
    "for imagePath in imagePaths:\n",
    "\t# load the image, resize it to 64x64 pixels (the required input\n",
    "\t# spatial dimensions of SmallVGGNet), and store the image in the\n",
    "\t# data list\n",
    "\timage = cv2.imread(imagePath)\n",
    "\timage = cv2.resize(image, (64, 64))\n",
    "\tdata.append(image)\n",
    "\n",
    "\t# extract the class label from the image path and update the\n",
    "\t# labels list\n",
    "\tlabel = imagePath.split(os.path.sep)[-2]\n",
    "\tlabels.append(label)\n",
    "\n",
    "# scale the raw pixel intensities to the range [0, 1]\n",
    "data = np.array(data, dtype=\"float\") / 255.0\n",
    "labels = np.array(labels)"
   ]
  },
  {
   "cell_type": "markdown",
   "metadata": {},
   "source": [
    "## Split Data and Binarize Labels"
   ]
  },
  {
   "cell_type": "code",
   "execution_count": 101,
   "metadata": {},
   "outputs": [],
   "source": [
    "# partition the data into training and testing splits using 75% of\n",
    "# the data for training and the remaining 25% for testing\n",
    "(trainX, testX, trainY, testY) = train_test_split(data,\n",
    "\tlabels, test_size=0.25, random_state=42)\n",
    "# print(trainY)\n",
    "# convert the labels from integers to vectors (for 2-class, binary\n",
    "# classification you should use Keras' to_categorical function\n",
    "# instead as the scikit-learn's LabelBinarizer will not return a\n",
    "# vector)\n",
    "lb = LabelBinarizer()\n",
    "trainY = lb.fit_transform(trainY)\n",
    "testY = lb.transform(testY)"
   ]
  },
  {
   "cell_type": "markdown",
   "metadata": {},
   "source": [
    "## Image Augmentation (Recall Lecture 4)"
   ]
  },
  {
   "cell_type": "code",
   "execution_count": 100,
   "metadata": {},
   "outputs": [],
   "source": [
    "# construct the image generator for data augmentation\n",
    "aug = ImageDataGenerator(rotation_range=30, width_shift_range=0.1,\n",
    "\theight_shift_range=0.1, shear_range=0.2, zoom_range=0.2,\n",
    "\thorizontal_flip=True, fill_mode=\"nearest\")\n",
    "\n",
    "# initialize our VGG-like Convolutional Neural Network (64,64,3)\n",
    "model = symnet.build(width=64, height=64, depth=3,\n",
    "\tclasses=len(lb.classes_))"
   ]
  },
  {
   "cell_type": "markdown",
   "metadata": {},
   "source": [
    "## Compile and Train Model\n",
    "\n",
    "##### https://ml-cheatsheet.readthedocs.io"
   ]
  },
  {
   "cell_type": "code",
   "execution_count": 98,
   "metadata": {},
   "outputs": [
    {
     "name": "stdout",
     "output_type": "stream",
     "text": [
      "[INFO] training network...\n",
      "Epoch 1/75\n",
      "2/2 [==============================] - 5s 2s/step - loss: 3.0383 - acc: 0.1562 - val_loss: 2.0576 - val_acc: 0.1379\n",
      "Epoch 2/75\n",
      "2/2 [==============================] - 2s 769ms/step - loss: 2.8194 - acc: 0.1135 - val_loss: 2.0015 - val_acc: 0.2069\n",
      "Epoch 3/75\n",
      "2/2 [==============================] - 2s 852ms/step - loss: 2.7242 - acc: 0.2038 - val_loss: 2.0245 - val_acc: 0.2414\n",
      "Epoch 4/75\n",
      "2/2 [==============================] - 2s 964ms/step - loss: 2.5761 - acc: 0.2344 - val_loss: 1.8513 - val_acc: 0.1724\n",
      "Epoch 5/75\n",
      "2/2 [==============================] - 2s 798ms/step - loss: 2.3331 - acc: 0.2899 - val_loss: 1.9314 - val_acc: 0.1724\n",
      "Epoch 6/75\n",
      "2/2 [==============================] - 2s 825ms/step - loss: 2.2417 - acc: 0.3298 - val_loss: 1.8052 - val_acc: 0.2069\n",
      "Epoch 7/75\n",
      "2/2 [==============================] - 2s 1s/step - loss: 2.2531 - acc: 0.3281 - val_loss: 1.8466 - val_acc: 0.2759\n",
      "Epoch 8/75\n",
      "2/2 [==============================] - 2s 776ms/step - loss: 2.3543 - acc: 0.2606 - val_loss: 1.9207 - val_acc: 0.2414\n",
      "Epoch 9/75\n",
      "2/2 [==============================] - 2s 787ms/step - loss: 2.4204 - acc: 0.2269 - val_loss: 1.9266 - val_acc: 0.2759\n",
      "Epoch 10/75\n",
      "2/2 [==============================] - 2s 951ms/step - loss: 1.7873 - acc: 0.3594 - val_loss: 1.9073 - val_acc: 0.2069\n",
      "Epoch 11/75\n",
      "2/2 [==============================] - 2s 787ms/step - loss: 2.1402 - acc: 0.3173 - val_loss: 1.7968 - val_acc: 0.2759\n",
      "Epoch 12/75\n",
      "2/2 [==============================] - 2s 784ms/step - loss: 2.3500 - acc: 0.3255 - val_loss: 1.8031 - val_acc: 0.2069\n",
      "Epoch 13/75\n",
      "2/2 [==============================] - 2s 946ms/step - loss: 2.5688 - acc: 0.2969 - val_loss: 1.8965 - val_acc: 0.2414\n",
      "Epoch 14/75\n",
      "2/2 [==============================] - 2s 775ms/step - loss: 1.9152 - acc: 0.3236 - val_loss: 1.8819 - val_acc: 0.2414\n",
      "Epoch 15/75\n",
      "2/2 [==============================] - 2s 849ms/step - loss: 2.1112 - acc: 0.3466 - val_loss: 1.9328 - val_acc: 0.2414\n",
      "Epoch 16/75\n",
      "2/2 [==============================] - 2s 1s/step - loss: 2.1088 - acc: 0.3281 - val_loss: 1.9680 - val_acc: 0.2414\n",
      "Epoch 17/75\n",
      "2/2 [==============================] - 2s 885ms/step - loss: 1.8411 - acc: 0.3740 - val_loss: 1.9465 - val_acc: 0.3103\n",
      "Epoch 18/75\n",
      "2/2 [==============================] - 2s 915ms/step - loss: 2.0525 - acc: 0.3846 - val_loss: 1.9850 - val_acc: 0.3103\n",
      "Epoch 19/75\n",
      "2/2 [==============================] - 2s 1s/step - loss: 1.8428 - acc: 0.4688 - val_loss: 1.9480 - val_acc: 0.3103\n",
      "Epoch 20/75\n",
      "2/2 [==============================] - 2s 935ms/step - loss: 2.0440 - acc: 0.3971 - val_loss: 1.9171 - val_acc: 0.3793\n",
      "Epoch 21/75\n",
      "2/2 [==============================] - 2s 938ms/step - loss: 1.5048 - acc: 0.5019 - val_loss: 2.0413 - val_acc: 0.2759\n",
      "Epoch 22/75\n",
      "2/2 [==============================] - 2s 1s/step - loss: 1.8478 - acc: 0.3125 - val_loss: 2.2200 - val_acc: 0.2759\n",
      "Epoch 23/75\n",
      "2/2 [==============================] - 2s 857ms/step - loss: 1.9879 - acc: 0.3697 - val_loss: 2.2525 - val_acc: 0.3448\n",
      "Epoch 24/75\n",
      "2/2 [==============================] - 2s 897ms/step - loss: 1.4292 - acc: 0.4769 - val_loss: 1.9818 - val_acc: 0.3793\n",
      "Epoch 25/75\n",
      "2/2 [==============================] - 2s 1s/step - loss: 1.9778 - acc: 0.3906 - val_loss: 2.0941 - val_acc: 0.2759\n",
      "Epoch 26/75\n",
      "2/2 [==============================] - 2s 899ms/step - loss: 2.2494 - acc: 0.3130 - val_loss: 2.1468 - val_acc: 0.2759\n",
      "Epoch 27/75\n",
      "2/2 [==============================] - 2s 913ms/step - loss: 1.7390 - acc: 0.3909 - val_loss: 2.3181 - val_acc: 0.1724\n",
      "Epoch 28/75\n",
      "2/2 [==============================] - 2s 1s/step - loss: 1.9555 - acc: 0.3281 - val_loss: 2.2020 - val_acc: 0.2069\n",
      "Epoch 29/75\n",
      "2/2 [==============================] - 2s 909ms/step - loss: 2.1001 - acc: 0.2837 - val_loss: 2.1870 - val_acc: 0.2069\n",
      "Epoch 30/75\n",
      "2/2 [==============================] - 2s 927ms/step - loss: 1.8585 - acc: 0.2774 - val_loss: 2.2401 - val_acc: 0.2069\n",
      "Epoch 31/75\n",
      "2/2 [==============================] - 2s 1s/step - loss: 1.5213 - acc: 0.4688 - val_loss: 2.1757 - val_acc: 0.3103\n",
      "Epoch 32/75\n",
      "2/2 [==============================] - 2s 889ms/step - loss: 2.1219 - acc: 0.3173 - val_loss: 2.1758 - val_acc: 0.2414\n",
      "Epoch 33/75\n",
      "2/2 [==============================] - 2s 850ms/step - loss: 2.0730 - acc: 0.3466 - val_loss: 2.2961 - val_acc: 0.3103\n",
      "Epoch 34/75\n",
      "2/2 [==============================] - 2s 978ms/step - loss: 1.8887 - acc: 0.3594 - val_loss: 2.4499 - val_acc: 0.2759\n",
      "Epoch 35/75\n",
      "2/2 [==============================] - 2s 852ms/step - loss: 1.5362 - acc: 0.4769 - val_loss: 2.2249 - val_acc: 0.2069\n",
      "Epoch 36/75\n",
      "2/2 [==============================] - 2s 801ms/step - loss: 1.9562 - acc: 0.3279 - val_loss: 2.1837 - val_acc: 0.2414\n",
      "Epoch 37/75\n",
      "2/2 [==============================] - 2s 957ms/step - loss: 1.2529 - acc: 0.4844 - val_loss: 2.2570 - val_acc: 0.2759\n",
      "Epoch 38/75\n",
      "2/2 [==============================] - 2s 791ms/step - loss: 1.7103 - acc: 0.4495 - val_loss: 2.2843 - val_acc: 0.2069\n",
      "Epoch 39/75\n",
      "2/2 [==============================] - 2s 796ms/step - loss: 1.6838 - acc: 0.4769 - val_loss: 2.2834 - val_acc: 0.2759\n",
      "Epoch 40/75\n",
      "2/2 [==============================] - 2s 999ms/step - loss: 1.4555 - acc: 0.5156 - val_loss: 2.2439 - val_acc: 0.3103\n",
      "Epoch 41/75\n",
      "2/2 [==============================] - 2s 784ms/step - loss: 1.7645 - acc: 0.3486 - val_loss: 2.2007 - val_acc: 0.2414\n",
      "Epoch 42/75\n",
      "2/2 [==============================] - 2s 794ms/step - loss: 1.3764 - acc: 0.5231 - val_loss: 2.2884 - val_acc: 0.3103\n",
      "Epoch 43/75\n",
      "2/2 [==============================] - 2s 987ms/step - loss: 1.4571 - acc: 0.4531 - val_loss: 2.2652 - val_acc: 0.2069\n",
      "Epoch 44/75\n",
      "2/2 [==============================] - 2s 782ms/step - loss: 1.8530 - acc: 0.4139 - val_loss: 2.3296 - val_acc: 0.2759\n",
      "Epoch 45/75\n",
      "2/2 [==============================] - 2s 826ms/step - loss: 1.6064 - acc: 0.3803 - val_loss: 2.2109 - val_acc: 0.3103\n",
      "Epoch 46/75\n",
      "2/2 [==============================] - 2s 973ms/step - loss: 1.7205 - acc: 0.4688 - val_loss: 2.2038 - val_acc: 0.2759\n",
      "Epoch 47/75\n",
      "2/2 [==============================] - 2s 827ms/step - loss: 1.5281 - acc: 0.4202 - val_loss: 2.1446 - val_acc: 0.2759\n",
      "Epoch 48/75\n",
      "2/2 [==============================] - 2s 881ms/step - loss: 1.6063 - acc: 0.3779 - val_loss: 2.2262 - val_acc: 0.2759\n",
      "Epoch 49/75\n",
      "2/2 [==============================] - 2s 1s/step - loss: 1.6866 - acc: 0.5312 - val_loss: 2.2848 - val_acc: 0.2759\n",
      "Epoch 50/75\n",
      "2/2 [==============================] - 2s 839ms/step - loss: 1.2986 - acc: 0.5755 - val_loss: 2.2903 - val_acc: 0.2759\n",
      "Epoch 51/75\n",
      "2/2 [==============================] - 2s 858ms/step - loss: 1.9255 - acc: 0.5212 - val_loss: 2.2322 - val_acc: 0.3448\n",
      "Epoch 52/75\n",
      "2/2 [==============================] - 2s 983ms/step - loss: 1.6179 - acc: 0.4375 - val_loss: 2.1743 - val_acc: 0.3103\n",
      "Epoch 53/75\n",
      "2/2 [==============================] - 2s 810ms/step - loss: 1.7612 - acc: 0.4538 - val_loss: 2.1172 - val_acc: 0.3103\n",
      "Epoch 54/75\n",
      "2/2 [==============================] - 2s 832ms/step - loss: 1.5018 - acc: 0.4937 - val_loss: 2.1617 - val_acc: 0.3103\n",
      "Epoch 55/75\n",
      "2/2 [==============================] - 2s 1s/step - loss: 1.4898 - acc: 0.4062 - val_loss: 2.1216 - val_acc: 0.3793\n",
      "Epoch 56/75\n",
      "2/2 [==============================] - 2s 899ms/step - loss: 1.5361 - acc: 0.4851 - val_loss: 2.0589 - val_acc: 0.2759\n",
      "Epoch 57/75\n",
      "2/2 [==============================] - 2s 783ms/step - loss: 1.6258 - acc: 0.4433 - val_loss: 2.1188 - val_acc: 0.3793\n",
      "Epoch 58/75\n",
      "2/2 [==============================] - 2s 1s/step - loss: 1.4240 - acc: 0.3906 - val_loss: 2.0905 - val_acc: 0.3103\n",
      "Epoch 59/75\n",
      "2/2 [==============================] - 2s 805ms/step - loss: 1.5835 - acc: 0.5106 - val_loss: 2.0761 - val_acc: 0.3448\n",
      "Epoch 60/75\n",
      "2/2 [==============================] - 2s 876ms/step - loss: 1.2499 - acc: 0.6260 - val_loss: 2.1172 - val_acc: 0.3103\n",
      "Epoch 61/75\n",
      "2/2 [==============================] - 2s 996ms/step - loss: 1.2860 - acc: 0.5625 - val_loss: 2.1439 - val_acc: 0.3103\n",
      "Epoch 62/75\n",
      "2/2 [==============================] - 2s 856ms/step - loss: 1.3426 - acc: 0.4202 - val_loss: 2.1498 - val_acc: 0.3103\n",
      "Epoch 63/75\n",
      "2/2 [==============================] - 2s 806ms/step - loss: 1.4476 - acc: 0.5274 - val_loss: 2.1975 - val_acc: 0.3448\n",
      "Epoch 64/75\n",
      "2/2 [==============================] - 2s 1s/step - loss: 1.4580 - acc: 0.5156 - val_loss: 2.2313 - val_acc: 0.3448\n",
      "Epoch 65/75\n",
      "2/2 [==============================] - 2s 831ms/step - loss: 1.4209 - acc: 0.5736 - val_loss: 2.2005 - val_acc: 0.3793\n",
      "Epoch 66/75\n",
      "2/2 [==============================] - 2s 859ms/step - loss: 1.3590 - acc: 0.5966 - val_loss: 2.1896 - val_acc: 0.3448\n",
      "Epoch 67/75\n",
      "2/2 [==============================] - 2s 997ms/step - loss: 1.3299 - acc: 0.5156 - val_loss: 2.2356 - val_acc: 0.2759\n",
      "Epoch 68/75\n",
      "2/2 [==============================] - 2s 856ms/step - loss: 1.4455 - acc: 0.5168 - val_loss: 2.1760 - val_acc: 0.2414\n",
      "Epoch 69/75\n",
      "2/2 [==============================] - 2s 857ms/step - loss: 1.4112 - acc: 0.5736 - val_loss: 2.1973 - val_acc: 0.2759\n",
      "Epoch 70/75\n",
      "2/2 [==============================] - 2s 994ms/step - loss: 1.4372 - acc: 0.5000 - val_loss: 2.2213 - val_acc: 0.2759\n",
      "Epoch 71/75\n",
      "2/2 [==============================] - 2s 836ms/step - loss: 1.2696 - acc: 0.6072 - val_loss: 2.2370 - val_acc: 0.3103\n",
      "Epoch 72/75\n",
      "2/2 [==============================] - 2s 789ms/step - loss: 1.1698 - acc: 0.5673 - val_loss: 2.2751 - val_acc: 0.3793\n",
      "Epoch 73/75\n",
      "2/2 [==============================] - 2s 992ms/step - loss: 1.4212 - acc: 0.4844 - val_loss: 2.2268 - val_acc: 0.3103\n",
      "Epoch 74/75\n",
      "2/2 [==============================] - 2s 830ms/step - loss: 1.2070 - acc: 0.5966 - val_loss: 2.2424 - val_acc: 0.2414\n",
      "Epoch 75/75\n",
      "2/2 [==============================] - 2s 796ms/step - loss: 1.7450 - acc: 0.5106 - val_loss: 2.2409 - val_acc: 0.4138\n"
     ]
    }
   ],
   "source": [
    "# initialize our initial learning rate, # of epochs to train for,\n",
    "# and batch size\n",
    "INIT_LR = 1e-3\n",
    "EPOCHS = 75\n",
    "BS = 32\n",
    "\n",
    "# initialize the model and optimizer (you'll want to use\n",
    "# binary_crossentropy for 2-class classification)\n",
    "print(\"[INFO] training network...\")\n",
    "opt = SGD(lr=INIT_LR, decay=INIT_LR / EPOCHS)\n",
    "model.compile(loss=\"categorical_crossentropy\", optimizer=opt,\n",
    "\tmetrics=[\"accuracy\"])\n",
    "\n",
    "# train the network\n",
    "H = model.fit_generator(aug.flow(trainX, trainY, batch_size=BS),\n",
    "\tvalidation_data=(testX, testY), steps_per_epoch=len(trainX) // BS,\n",
    "\tepochs=EPOCHS)"
   ]
  },
  {
   "cell_type": "markdown",
   "metadata": {},
   "source": [
    "## Save Observations"
   ]
  },
  {
   "cell_type": "code",
   "execution_count": 99,
   "metadata": {},
   "outputs": [],
   "source": [
    "# out = open('./observations/observation.csv' , 'a')\n",
    "observation_list = [EPOCHS,INIT_LR,BS, H.history['loss'][-1], H.history['val_loss'][-1], H.history['acc'][-1], H.history['val_acc'][-1]]\n",
    "observation_list\n",
    "with open('./observations/observation.csv', 'a') as file_out:\n",
    "    file_out.write(str(observation_list) + '\\n')\n",
    "# out.write(EPOCHS + ',' + INIT_LR + ',' + BS + ',' + H.history['loss'][-1] + ',' + H.history['val_loss'][-1] + ',' + H.history['acc'][-1] + ',' + H.history['val_acc'][-1] + '\\n')\n",
    "# out.write(str(observation_list))"
   ]
  },
  {
   "cell_type": "markdown",
   "metadata": {},
   "source": [
    "## Plot Results"
   ]
  },
  {
   "cell_type": "code",
   "execution_count": 21,
   "metadata": {},
   "outputs": [
    {
     "name": "stdout",
     "output_type": "stream",
     "text": [
      "[INFO] evaluating network...\n",
      "                     precision    recall  f1-score   support\n",
      "\n",
      "       akshay_kumar       0.25      0.50      0.33         4\n",
      "       katrina_kaif       0.43      0.75      0.55         4\n",
      "nawazuddin_siddiqui       1.00      0.44      0.62         9\n",
      "      ranbir_kapoor       0.50      0.20      0.29         5\n",
      "        zarine_khan       0.50      0.57      0.53         7\n",
      "\n",
      "          micro avg       0.48      0.48      0.48        29\n",
      "          macro avg       0.54      0.49      0.46        29\n",
      "       weighted avg       0.61      0.48      0.49        29\n",
      "\n",
      "[INFO] serializing network and label binarizer...\n"
     ]
    }
   ],
   "source": [
    "# evaluate the network\n",
    "print(\"[INFO] evaluating network...\")\n",
    "predictions = model.predict(testX, batch_size=32)\n",
    "print(classification_report(testY.argmax(axis=1),\n",
    "\tpredictions.argmax(axis=1), target_names=lb.classes_))\n",
    "\n",
    "# plot the training loss and accuracy\n",
    "N = np.arange(0, EPOCHS)\n",
    "plt.style.use(\"ggplot\")\n",
    "plt.figure()\n",
    "plt.plot(N, H.history[\"loss\"], label=\"train_loss\")\n",
    "plt.plot(N, H.history[\"val_loss\"], label=\"val_loss\")\n",
    "plt.plot(N, H.history[\"acc\"], label=\"train_acc\")\n",
    "plt.plot(N, H.history[\"val_acc\"], label=\"val_acc\")\n",
    "plt.title(\"Training Loss and Accuracy (SmallVGGNet)\")\n",
    "plt.xlabel(\"Epoch #\")\n",
    "plt.ylabel(\"Loss/Accuracy\")\n",
    "plt.legend()\n",
    "plt.savefig('symnet_results.png')\n",
    "\n",
    "# save the model and label binarizer to disk\n",
    "print(\"[INFO] serializing network and label binarizer...\")\n",
    "model.save('symnet.model')\n",
    "f = open('labels.bin', \"wb\")\n",
    "f.write(pickle.dumps(lb))\n",
    "f.close()"
   ]
  }
 ],
 "metadata": {
  "kernelspec": {
   "display_name": "Python 3",
   "language": "python",
   "name": "python3"
  },
  "language_info": {
   "codemirror_mode": {
    "name": "ipython",
    "version": 3
   },
   "file_extension": ".py",
   "mimetype": "text/x-python",
   "name": "python",
   "nbconvert_exporter": "python",
   "pygments_lexer": "ipython3",
   "version": "3.6.7"
  }
 },
 "nbformat": 4,
 "nbformat_minor": 2
}
